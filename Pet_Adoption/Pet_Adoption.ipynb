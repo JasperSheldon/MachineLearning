{
 "cells": [
  {
   "cell_type": "markdown",
   "metadata": {},
   "source": [
    "# Multiclass Multilabel Classifier - Predicting Pet Category and Breed type"
   ]
  },
  {
   "cell_type": "markdown",
   "metadata": {},
   "source": [
    "We are dealing with a with multiple target variables where both are multilabel type. The following data is from a pet store where it has the issue date and pets details, we have two multi label target variables Pet category[0,1,2,4] and Breed category[0,1,2]."
   ]
  },
  {
   "cell_type": "code",
   "execution_count": 128,
   "metadata": {},
   "outputs": [],
   "source": [
    "import pandas as pd\n",
    "import numpy as np\n",
    "import seaborn as sns\n",
    "import matplotlib.pyplot as plt\n",
    "from sklearn.preprocessing import MinMaxScaler\n",
    "import category_encoders as ce\n",
    "from sklearn.neighbors import KNeighborsClassifier\n",
    "from sklearn.model_selection import train_test_split\n",
    "from imblearn.over_sampling import RandomOverSampler\n",
    "from sklearn.ensemble import RandomForestClassifier,GradientBoostingClassifier\n",
    "from sklearn import metrics\n",
    "from sklearn.model_selection import GridSearchCV"
   ]
  },
  {
   "cell_type": "code",
   "execution_count": 129,
   "metadata": {},
   "outputs": [
    {
     "data": {
      "text/html": [
       "<div>\n",
       "<style scoped>\n",
       "    .dataframe tbody tr th:only-of-type {\n",
       "        vertical-align: middle;\n",
       "    }\n",
       "\n",
       "    .dataframe tbody tr th {\n",
       "        vertical-align: top;\n",
       "    }\n",
       "\n",
       "    .dataframe thead th {\n",
       "        text-align: right;\n",
       "    }\n",
       "</style>\n",
       "<table border=\"1\" class=\"dataframe\">\n",
       "  <thead>\n",
       "    <tr style=\"text-align: right;\">\n",
       "      <th></th>\n",
       "      <th>pet_id</th>\n",
       "      <th>issue_date</th>\n",
       "      <th>listing_date</th>\n",
       "      <th>condition</th>\n",
       "      <th>color_type</th>\n",
       "      <th>length(m)</th>\n",
       "      <th>height(cm)</th>\n",
       "      <th>X1</th>\n",
       "      <th>X2</th>\n",
       "      <th>breed_category</th>\n",
       "      <th>pet_category</th>\n",
       "    </tr>\n",
       "  </thead>\n",
       "  <tbody>\n",
       "    <tr>\n",
       "      <th>0</th>\n",
       "      <td>ANSL_69903</td>\n",
       "      <td>2016-07-10 00:00:00</td>\n",
       "      <td>2016-09-21 16:25:00</td>\n",
       "      <td>2.0</td>\n",
       "      <td>Brown Tabby</td>\n",
       "      <td>0.80</td>\n",
       "      <td>7.78</td>\n",
       "      <td>13</td>\n",
       "      <td>9</td>\n",
       "      <td>0.0</td>\n",
       "      <td>1</td>\n",
       "    </tr>\n",
       "    <tr>\n",
       "      <th>1</th>\n",
       "      <td>ANSL_66892</td>\n",
       "      <td>2013-11-21 00:00:00</td>\n",
       "      <td>2018-12-27 17:47:00</td>\n",
       "      <td>1.0</td>\n",
       "      <td>White</td>\n",
       "      <td>0.72</td>\n",
       "      <td>14.19</td>\n",
       "      <td>13</td>\n",
       "      <td>9</td>\n",
       "      <td>0.0</td>\n",
       "      <td>2</td>\n",
       "    </tr>\n",
       "    <tr>\n",
       "      <th>2</th>\n",
       "      <td>ANSL_69750</td>\n",
       "      <td>2014-09-28 00:00:00</td>\n",
       "      <td>2016-10-19 08:24:00</td>\n",
       "      <td>NaN</td>\n",
       "      <td>Brown</td>\n",
       "      <td>0.15</td>\n",
       "      <td>40.90</td>\n",
       "      <td>15</td>\n",
       "      <td>4</td>\n",
       "      <td>2.0</td>\n",
       "      <td>4</td>\n",
       "    </tr>\n",
       "    <tr>\n",
       "      <th>3</th>\n",
       "      <td>ANSL_71623</td>\n",
       "      <td>2016-12-31 00:00:00</td>\n",
       "      <td>2019-01-25 18:30:00</td>\n",
       "      <td>1.0</td>\n",
       "      <td>White</td>\n",
       "      <td>0.62</td>\n",
       "      <td>17.82</td>\n",
       "      <td>0</td>\n",
       "      <td>1</td>\n",
       "      <td>0.0</td>\n",
       "      <td>2</td>\n",
       "    </tr>\n",
       "    <tr>\n",
       "      <th>4</th>\n",
       "      <td>ANSL_57969</td>\n",
       "      <td>2017-09-28 00:00:00</td>\n",
       "      <td>2017-11-19 09:38:00</td>\n",
       "      <td>2.0</td>\n",
       "      <td>Black</td>\n",
       "      <td>0.50</td>\n",
       "      <td>11.06</td>\n",
       "      <td>18</td>\n",
       "      <td>4</td>\n",
       "      <td>0.0</td>\n",
       "      <td>1</td>\n",
       "    </tr>\n",
       "  </tbody>\n",
       "</table>\n",
       "</div>"
      ],
      "text/plain": [
       "       pet_id           issue_date         listing_date  condition  \\\n",
       "0  ANSL_69903  2016-07-10 00:00:00  2016-09-21 16:25:00        2.0   \n",
       "1  ANSL_66892  2013-11-21 00:00:00  2018-12-27 17:47:00        1.0   \n",
       "2  ANSL_69750  2014-09-28 00:00:00  2016-10-19 08:24:00        NaN   \n",
       "3  ANSL_71623  2016-12-31 00:00:00  2019-01-25 18:30:00        1.0   \n",
       "4  ANSL_57969  2017-09-28 00:00:00  2017-11-19 09:38:00        2.0   \n",
       "\n",
       "    color_type  length(m)  height(cm)  X1  X2  breed_category  pet_category  \n",
       "0  Brown Tabby       0.80        7.78  13   9             0.0             1  \n",
       "1        White       0.72       14.19  13   9             0.0             2  \n",
       "2        Brown       0.15       40.90  15   4             2.0             4  \n",
       "3        White       0.62       17.82   0   1             0.0             2  \n",
       "4        Black       0.50       11.06  18   4             0.0             1  "
      ]
     },
     "execution_count": 129,
     "metadata": {},
     "output_type": "execute_result"
    }
   ],
   "source": [
    "data=pd.read_csv('train.csv')\n",
    "data.head()"
   ]
  },
  {
   "cell_type": "code",
   "execution_count": 130,
   "metadata": {},
   "outputs": [
    {
     "data": {
      "text/plain": [
       "(18834, 11)"
      ]
     },
     "execution_count": 130,
     "metadata": {},
     "output_type": "execute_result"
    }
   ],
   "source": [
    "data.shape"
   ]
  },
  {
   "cell_type": "markdown",
   "metadata": {},
   "source": [
    "# Missing value treatement"
   ]
  },
  {
   "cell_type": "code",
   "execution_count": 131,
   "metadata": {},
   "outputs": [
    {
     "data": {
      "text/plain": [
       "pet_id               0\n",
       "issue_date           0\n",
       "listing_date         0\n",
       "condition         1477\n",
       "color_type           0\n",
       "length(m)            0\n",
       "height(cm)           0\n",
       "X1                   0\n",
       "X2                   0\n",
       "breed_category       0\n",
       "pet_category         0\n",
       "dtype: int64"
      ]
     },
     "execution_count": 131,
     "metadata": {},
     "output_type": "execute_result"
    }
   ],
   "source": [
    "data.isna().sum()"
   ]
  },
  {
   "cell_type": "markdown",
   "metadata": {},
   "source": [
    "We can see only 'condition' has the missing values so we'll find try to find any insights to fill the missing values"
   ]
  },
  {
   "cell_type": "code",
   "execution_count": 132,
   "metadata": {},
   "outputs": [
    {
     "name": "stdout",
     "output_type": "stream",
     "text": [
      "<class 'pandas.core.frame.DataFrame'>\n",
      "RangeIndex: 18834 entries, 0 to 18833\n",
      "Data columns (total 11 columns):\n",
      "pet_id            18834 non-null object\n",
      "issue_date        18834 non-null object\n",
      "listing_date      18834 non-null object\n",
      "condition         17357 non-null float64\n",
      "color_type        18834 non-null object\n",
      "length(m)         18834 non-null float64\n",
      "height(cm)        18834 non-null float64\n",
      "X1                18834 non-null int64\n",
      "X2                18834 non-null int64\n",
      "breed_category    18834 non-null float64\n",
      "pet_category      18834 non-null int64\n",
      "dtypes: float64(4), int64(3), object(4)\n",
      "memory usage: 1.6+ MB\n"
     ]
    }
   ],
   "source": [
    "data.info()"
   ]
  },
  {
   "cell_type": "code",
   "execution_count": 133,
   "metadata": {},
   "outputs": [
    {
     "data": {
      "text/plain": [
       "7.842200276096421"
      ]
     },
     "execution_count": 133,
     "metadata": {},
     "output_type": "execute_result"
    }
   ],
   "source": [
    "data['condition'].isna().sum() / data.shape[0] * 100"
   ]
  },
  {
   "cell_type": "code",
   "execution_count": 134,
   "metadata": {},
   "outputs": [
    {
     "data": {
      "text/html": [
       "<div>\n",
       "<style scoped>\n",
       "    .dataframe tbody tr th:only-of-type {\n",
       "        vertical-align: middle;\n",
       "    }\n",
       "\n",
       "    .dataframe tbody tr th {\n",
       "        vertical-align: top;\n",
       "    }\n",
       "\n",
       "    .dataframe thead th {\n",
       "        text-align: right;\n",
       "    }\n",
       "</style>\n",
       "<table border=\"1\" class=\"dataframe\">\n",
       "  <thead>\n",
       "    <tr style=\"text-align: right;\">\n",
       "      <th></th>\n",
       "      <th>condition</th>\n",
       "      <th>length(m)</th>\n",
       "      <th>height(cm)</th>\n",
       "      <th>X1</th>\n",
       "      <th>X2</th>\n",
       "      <th>breed_category</th>\n",
       "      <th>pet_category</th>\n",
       "    </tr>\n",
       "  </thead>\n",
       "  <tbody>\n",
       "    <tr>\n",
       "      <th>count</th>\n",
       "      <td>17357.000000</td>\n",
       "      <td>18834.000000</td>\n",
       "      <td>18834.000000</td>\n",
       "      <td>18834.000000</td>\n",
       "      <td>18834.000000</td>\n",
       "      <td>18834.000000</td>\n",
       "      <td>18834.000000</td>\n",
       "    </tr>\n",
       "    <tr>\n",
       "      <th>mean</th>\n",
       "      <td>0.883390</td>\n",
       "      <td>0.502636</td>\n",
       "      <td>27.448832</td>\n",
       "      <td>5.369598</td>\n",
       "      <td>4.577307</td>\n",
       "      <td>0.600563</td>\n",
       "      <td>1.709143</td>\n",
       "    </tr>\n",
       "    <tr>\n",
       "      <th>std</th>\n",
       "      <td>0.770434</td>\n",
       "      <td>0.288705</td>\n",
       "      <td>13.019781</td>\n",
       "      <td>6.572366</td>\n",
       "      <td>3.517763</td>\n",
       "      <td>0.629883</td>\n",
       "      <td>0.717919</td>\n",
       "    </tr>\n",
       "    <tr>\n",
       "      <th>min</th>\n",
       "      <td>0.000000</td>\n",
       "      <td>0.000000</td>\n",
       "      <td>5.000000</td>\n",
       "      <td>0.000000</td>\n",
       "      <td>0.000000</td>\n",
       "      <td>0.000000</td>\n",
       "      <td>0.000000</td>\n",
       "    </tr>\n",
       "    <tr>\n",
       "      <th>25%</th>\n",
       "      <td>0.000000</td>\n",
       "      <td>0.250000</td>\n",
       "      <td>16.172500</td>\n",
       "      <td>0.000000</td>\n",
       "      <td>1.000000</td>\n",
       "      <td>0.000000</td>\n",
       "      <td>1.000000</td>\n",
       "    </tr>\n",
       "    <tr>\n",
       "      <th>50%</th>\n",
       "      <td>1.000000</td>\n",
       "      <td>0.500000</td>\n",
       "      <td>27.340000</td>\n",
       "      <td>0.000000</td>\n",
       "      <td>4.000000</td>\n",
       "      <td>1.000000</td>\n",
       "      <td>2.000000</td>\n",
       "    </tr>\n",
       "    <tr>\n",
       "      <th>75%</th>\n",
       "      <td>1.000000</td>\n",
       "      <td>0.760000</td>\n",
       "      <td>38.890000</td>\n",
       "      <td>13.000000</td>\n",
       "      <td>9.000000</td>\n",
       "      <td>1.000000</td>\n",
       "      <td>2.000000</td>\n",
       "    </tr>\n",
       "    <tr>\n",
       "      <th>max</th>\n",
       "      <td>2.000000</td>\n",
       "      <td>1.000000</td>\n",
       "      <td>50.000000</td>\n",
       "      <td>19.000000</td>\n",
       "      <td>9.000000</td>\n",
       "      <td>2.000000</td>\n",
       "      <td>4.000000</td>\n",
       "    </tr>\n",
       "  </tbody>\n",
       "</table>\n",
       "</div>"
      ],
      "text/plain": [
       "          condition     length(m)    height(cm)            X1            X2  \\\n",
       "count  17357.000000  18834.000000  18834.000000  18834.000000  18834.000000   \n",
       "mean       0.883390      0.502636     27.448832      5.369598      4.577307   \n",
       "std        0.770434      0.288705     13.019781      6.572366      3.517763   \n",
       "min        0.000000      0.000000      5.000000      0.000000      0.000000   \n",
       "25%        0.000000      0.250000     16.172500      0.000000      1.000000   \n",
       "50%        1.000000      0.500000     27.340000      0.000000      4.000000   \n",
       "75%        1.000000      0.760000     38.890000     13.000000      9.000000   \n",
       "max        2.000000      1.000000     50.000000     19.000000      9.000000   \n",
       "\n",
       "       breed_category  pet_category  \n",
       "count    18834.000000  18834.000000  \n",
       "mean         0.600563      1.709143  \n",
       "std          0.629883      0.717919  \n",
       "min          0.000000      0.000000  \n",
       "25%          0.000000      1.000000  \n",
       "50%          1.000000      2.000000  \n",
       "75%          1.000000      2.000000  \n",
       "max          2.000000      4.000000  "
      ]
     },
     "execution_count": 134,
     "metadata": {},
     "output_type": "execute_result"
    }
   ],
   "source": [
    "data.describe()"
   ]
  },
  {
   "cell_type": "code",
   "execution_count": 135,
   "metadata": {},
   "outputs": [
    {
     "data": {
      "text/plain": [
       "array([ 2.,  1., nan,  0.])"
      ]
     },
     "execution_count": 135,
     "metadata": {},
     "output_type": "execute_result"
    }
   ],
   "source": [
    "data['condition'].unique()"
   ]
  },
  {
   "cell_type": "code",
   "execution_count": 136,
   "metadata": {},
   "outputs": [
    {
     "data": {
      "text/plain": [
       "1.0"
      ]
     },
     "execution_count": 136,
     "metadata": {},
     "output_type": "execute_result"
    }
   ],
   "source": [
    "data['condition'].median()"
   ]
  },
  {
   "cell_type": "code",
   "execution_count": 137,
   "metadata": {},
   "outputs": [
    {
     "data": {
      "text/html": [
       "<div>\n",
       "<style scoped>\n",
       "    .dataframe tbody tr th:only-of-type {\n",
       "        vertical-align: middle;\n",
       "    }\n",
       "\n",
       "    .dataframe tbody tr th {\n",
       "        vertical-align: top;\n",
       "    }\n",
       "\n",
       "    .dataframe thead th {\n",
       "        text-align: right;\n",
       "    }\n",
       "</style>\n",
       "<table border=\"1\" class=\"dataframe\">\n",
       "  <thead>\n",
       "    <tr style=\"text-align: right;\">\n",
       "      <th></th>\n",
       "      <th>condition</th>\n",
       "      <th>length(m)</th>\n",
       "      <th>height(cm)</th>\n",
       "      <th>X1</th>\n",
       "      <th>X2</th>\n",
       "    </tr>\n",
       "  </thead>\n",
       "  <tbody>\n",
       "    <tr>\n",
       "      <th>0</th>\n",
       "      <td>0.0</td>\n",
       "      <td>0.505816</td>\n",
       "      <td>27.670675</td>\n",
       "      <td>3.247731</td>\n",
       "      <td>3.424455</td>\n",
       "    </tr>\n",
       "    <tr>\n",
       "      <th>1</th>\n",
       "      <td>1.0</td>\n",
       "      <td>0.502157</td>\n",
       "      <td>27.278102</td>\n",
       "      <td>3.220414</td>\n",
       "      <td>3.723127</td>\n",
       "    </tr>\n",
       "    <tr>\n",
       "      <th>2</th>\n",
       "      <td>2.0</td>\n",
       "      <td>0.497324</td>\n",
       "      <td>27.340665</td>\n",
       "      <td>9.245478</td>\n",
       "      <td>7.201081</td>\n",
       "    </tr>\n",
       "  </tbody>\n",
       "</table>\n",
       "</div>"
      ],
      "text/plain": [
       "   condition  length(m)  height(cm)        X1        X2\n",
       "0        0.0   0.505816   27.670675  3.247731  3.424455\n",
       "1        1.0   0.502157   27.278102  3.220414  3.723127\n",
       "2        2.0   0.497324   27.340665  9.245478  7.201081"
      ]
     },
     "execution_count": 137,
     "metadata": {},
     "output_type": "execute_result"
    }
   ],
   "source": [
    "data.groupby(['condition'],as_index=False).agg({'length(m)':np.mean,'height(cm)':np.mean,'X1':np.mean,'X2':np.mean})"
   ]
  },
  {
   "cell_type": "markdown",
   "metadata": {},
   "source": [
    "We can see each conditon category has distinct X1 and X2 values but with respect to height and length its not clearly differntiatable."
   ]
  },
  {
   "cell_type": "code",
   "execution_count": 138,
   "metadata": {},
   "outputs": [
    {
     "data": {
      "text/plain": [
       "length(m)      0.506628\n",
       "height(cm)    27.605423\n",
       "X1            13.144211\n",
       "X2             5.861205\n",
       "dtype: float64"
      ]
     },
     "execution_count": 138,
     "metadata": {},
     "output_type": "execute_result"
    }
   ],
   "source": [
    "data[data['condition'].isna()][['length(m)','height(cm)','X1','X2']].mean()"
   ]
  },
  {
   "cell_type": "markdown",
   "metadata": {},
   "source": [
    "Crosschecking the values of missing elements with the condition category, we can clearly make out that all the missing \n",
    "values does not belong to any particular category it means its spread throughout so we'll use a model to fill in the values.\n"
   ]
  },
  {
   "cell_type": "code",
   "execution_count": 139,
   "metadata": {
    "scrolled": true
   },
   "outputs": [
    {
     "data": {
      "text/plain": [
       "array(['Brown Tabby', 'White', 'Brown', 'Black', 'Red', 'Tricolor',\n",
       "       'Calico', 'Brown Brindle', 'Blue', 'Tortie', 'Gray', 'Fawn',\n",
       "       'Buff', 'Torbie', 'Orange Tabby', 'Sable', 'Tan', 'Blue Tick',\n",
       "       'Orange', 'Blue Tabby', 'Chocolate', 'Black Tabby',\n",
       "       'Black Brindle', 'Cream Tabby', 'Gold', 'Calico Point',\n",
       "       'Blue Merle', 'Red Merle', 'Yellow', 'Lynx Point', 'Blue Cream',\n",
       "       'Flame Point', 'Cream', 'Yellow Brindle', 'Blue Tiger',\n",
       "       'Seal Point', 'Red Tick', 'Brown Merle', 'Black Smoke',\n",
       "       'Gray Tabby', 'Green', 'Tortie Point', 'Blue Smoke', 'Apricot',\n",
       "       'Blue Point', 'Silver Tabby', 'Lilac Point', 'Silver',\n",
       "       'Brown Tiger', 'Liver', 'Agouti', 'Chocolate Point', 'Liver Tick',\n",
       "       'Pink', 'Black Tiger', 'Silver Lynx Point'], dtype=object)"
      ]
     },
     "execution_count": 139,
     "metadata": {},
     "output_type": "execute_result"
    }
   ],
   "source": [
    "data.color_type.unique()"
   ]
  },
  {
   "cell_type": "code",
   "execution_count": 140,
   "metadata": {},
   "outputs": [],
   "source": [
    "\n",
    "def FillingNa(df,status):\n",
    "    df['issue_date']= pd.to_datetime(df['issue_date'])  # converting the feature into date\n",
    "    df['listing_date']=pd.to_datetime(df['listing_date'])\n",
    "    df['diff_days']=(df['listing_date']-df['issue_date']).dt.days #calculating the difference in date\n",
    "    df['length(cm)']=df['length(m)'].map(lambda x : x*100) #converting length from m to cm\n",
    "    \n",
    "    \n",
    "    \n",
    "    encoder=ce.BinaryEncoder(cols='color_type')    #Encoding the categorical variable color_type\n",
    "    data=encoder.fit_transform(df)\n",
    "    if(status=='train'):\n",
    "        encoder2=ce.OneHotEncoder(cols=['breed_category','pet_category'])  #Encoding the categorical variables breed and pet\n",
    "        data=encoder2.fit_transform(data)\n",
    "        \n",
    "    scaler=MinMaxScaler()\n",
    "    data[['X1','X2','length(cm)','height(cm)','diff_days']]=scaler.fit_transform(data[['X1','X2','length(cm)','height(cm)','diff_days']])\n",
    "    \n",
    "    \n",
    "    data.drop(columns=['pet_id','issue_date','listing_date','length(m)'],inplace=True)\n",
    "    test=data[data['condition'].isna()]\n",
    "    train=data.dropna()\n",
    "    test.drop(columns='condition',inplace=True)\n",
    "    \n",
    "    \n",
    "    classifier=KNeighborsClassifier(n_neighbors=3)\n",
    "    classifier.fit(y=train['condition'],X=train.drop(columns='condition'))\n",
    "    \n",
    "    test['condition']=classifier.predict(test)\n",
    "    \n",
    "    df['condition']=df['condition'].fillna(test['condition'])\n",
    "    \n",
    "    return df"
   ]
  },
  {
   "cell_type": "raw",
   "metadata": {},
   "source": [
    "We have created a function 'FillingNa' where it applies all the encoder for the categorical varialbles and trains the KNN classifier with the normal values and the missing values are predicted with the model. The filled dataframe is then returned."
   ]
  },
  {
   "cell_type": "code",
   "execution_count": 141,
   "metadata": {},
   "outputs": [
    {
     "name": "stderr",
     "output_type": "stream",
     "text": [
      "D:\\ProgramFiles\\anaconda3\\envs\\nlp_course\\lib\\site-packages\\pandas\\core\\frame.py:3697: SettingWithCopyWarning: \n",
      "A value is trying to be set on a copy of a slice from a DataFrame\n",
      "\n",
      "See the caveats in the documentation: http://pandas.pydata.org/pandas-docs/stable/indexing.html#indexing-view-versus-copy\n",
      "  errors=errors)\n",
      "D:\\ProgramFiles\\anaconda3\\envs\\nlp_course\\lib\\site-packages\\ipykernel_launcher.py:28: SettingWithCopyWarning: \n",
      "A value is trying to be set on a copy of a slice from a DataFrame.\n",
      "Try using .loc[row_indexer,col_indexer] = value instead\n",
      "\n",
      "See the caveats in the documentation: http://pandas.pydata.org/pandas-docs/stable/indexing.html#indexing-view-versus-copy\n"
     ]
    }
   ],
   "source": [
    "dataC=FillingNa(data,status='train')"
   ]
  },
  {
   "cell_type": "code",
   "execution_count": 142,
   "metadata": {},
   "outputs": [
    {
     "data": {
      "text/html": [
       "<div>\n",
       "<style scoped>\n",
       "    .dataframe tbody tr th:only-of-type {\n",
       "        vertical-align: middle;\n",
       "    }\n",
       "\n",
       "    .dataframe tbody tr th {\n",
       "        vertical-align: top;\n",
       "    }\n",
       "\n",
       "    .dataframe thead th {\n",
       "        text-align: right;\n",
       "    }\n",
       "</style>\n",
       "<table border=\"1\" class=\"dataframe\">\n",
       "  <thead>\n",
       "    <tr style=\"text-align: right;\">\n",
       "      <th></th>\n",
       "      <th>pet_id</th>\n",
       "      <th>issue_date</th>\n",
       "      <th>listing_date</th>\n",
       "      <th>condition</th>\n",
       "      <th>color_type</th>\n",
       "      <th>length(m)</th>\n",
       "      <th>height(cm)</th>\n",
       "      <th>X1</th>\n",
       "      <th>X2</th>\n",
       "      <th>breed_category</th>\n",
       "      <th>pet_category</th>\n",
       "      <th>diff_days</th>\n",
       "      <th>length(cm)</th>\n",
       "    </tr>\n",
       "  </thead>\n",
       "  <tbody>\n",
       "    <tr>\n",
       "      <th>0</th>\n",
       "      <td>ANSL_69903</td>\n",
       "      <td>2016-07-10</td>\n",
       "      <td>2016-09-21 16:25:00</td>\n",
       "      <td>2.0</td>\n",
       "      <td>Brown Tabby</td>\n",
       "      <td>0.80</td>\n",
       "      <td>7.78</td>\n",
       "      <td>13</td>\n",
       "      <td>9</td>\n",
       "      <td>0.0</td>\n",
       "      <td>1</td>\n",
       "      <td>73</td>\n",
       "      <td>80.0</td>\n",
       "    </tr>\n",
       "    <tr>\n",
       "      <th>1</th>\n",
       "      <td>ANSL_66892</td>\n",
       "      <td>2013-11-21</td>\n",
       "      <td>2018-12-27 17:47:00</td>\n",
       "      <td>1.0</td>\n",
       "      <td>White</td>\n",
       "      <td>0.72</td>\n",
       "      <td>14.19</td>\n",
       "      <td>13</td>\n",
       "      <td>9</td>\n",
       "      <td>0.0</td>\n",
       "      <td>2</td>\n",
       "      <td>1862</td>\n",
       "      <td>72.0</td>\n",
       "    </tr>\n",
       "    <tr>\n",
       "      <th>2</th>\n",
       "      <td>ANSL_69750</td>\n",
       "      <td>2014-09-28</td>\n",
       "      <td>2016-10-19 08:24:00</td>\n",
       "      <td>2.0</td>\n",
       "      <td>Brown</td>\n",
       "      <td>0.15</td>\n",
       "      <td>40.90</td>\n",
       "      <td>15</td>\n",
       "      <td>4</td>\n",
       "      <td>2.0</td>\n",
       "      <td>4</td>\n",
       "      <td>752</td>\n",
       "      <td>15.0</td>\n",
       "    </tr>\n",
       "    <tr>\n",
       "      <th>3</th>\n",
       "      <td>ANSL_71623</td>\n",
       "      <td>2016-12-31</td>\n",
       "      <td>2019-01-25 18:30:00</td>\n",
       "      <td>1.0</td>\n",
       "      <td>White</td>\n",
       "      <td>0.62</td>\n",
       "      <td>17.82</td>\n",
       "      <td>0</td>\n",
       "      <td>1</td>\n",
       "      <td>0.0</td>\n",
       "      <td>2</td>\n",
       "      <td>755</td>\n",
       "      <td>62.0</td>\n",
       "    </tr>\n",
       "    <tr>\n",
       "      <th>4</th>\n",
       "      <td>ANSL_57969</td>\n",
       "      <td>2017-09-28</td>\n",
       "      <td>2017-11-19 09:38:00</td>\n",
       "      <td>2.0</td>\n",
       "      <td>Black</td>\n",
       "      <td>0.50</td>\n",
       "      <td>11.06</td>\n",
       "      <td>18</td>\n",
       "      <td>4</td>\n",
       "      <td>0.0</td>\n",
       "      <td>1</td>\n",
       "      <td>52</td>\n",
       "      <td>50.0</td>\n",
       "    </tr>\n",
       "  </tbody>\n",
       "</table>\n",
       "</div>"
      ],
      "text/plain": [
       "       pet_id issue_date        listing_date  condition   color_type  \\\n",
       "0  ANSL_69903 2016-07-10 2016-09-21 16:25:00        2.0  Brown Tabby   \n",
       "1  ANSL_66892 2013-11-21 2018-12-27 17:47:00        1.0        White   \n",
       "2  ANSL_69750 2014-09-28 2016-10-19 08:24:00        2.0        Brown   \n",
       "3  ANSL_71623 2016-12-31 2019-01-25 18:30:00        1.0        White   \n",
       "4  ANSL_57969 2017-09-28 2017-11-19 09:38:00        2.0        Black   \n",
       "\n",
       "   length(m)  height(cm)  X1  X2  breed_category  pet_category  diff_days  \\\n",
       "0       0.80        7.78  13   9             0.0             1         73   \n",
       "1       0.72       14.19  13   9             0.0             2       1862   \n",
       "2       0.15       40.90  15   4             2.0             4        752   \n",
       "3       0.62       17.82   0   1             0.0             2        755   \n",
       "4       0.50       11.06  18   4             0.0             1         52   \n",
       "\n",
       "   length(cm)  \n",
       "0        80.0  \n",
       "1        72.0  \n",
       "2        15.0  \n",
       "3        62.0  \n",
       "4        50.0  "
      ]
     },
     "execution_count": 142,
     "metadata": {},
     "output_type": "execute_result"
    }
   ],
   "source": [
    "#dataC['length(cm)']=dataC['length(m)'].map(lambda x : x*100)\n",
    "dataC.head()\n"
   ]
  },
  {
   "cell_type": "code",
   "execution_count": 143,
   "metadata": {},
   "outputs": [
    {
     "data": {
      "text/plain": [
       "pet_id            0\n",
       "issue_date        0\n",
       "listing_date      0\n",
       "condition         0\n",
       "color_type        0\n",
       "length(m)         0\n",
       "height(cm)        0\n",
       "X1                0\n",
       "X2                0\n",
       "breed_category    0\n",
       "pet_category      0\n",
       "diff_days         0\n",
       "length(cm)        0\n",
       "dtype: int64"
      ]
     },
     "execution_count": 143,
     "metadata": {},
     "output_type": "execute_result"
    }
   ],
   "source": [
    "dataC.isna().sum()"
   ]
  },
  {
   "cell_type": "markdown",
   "metadata": {},
   "source": [
    "# Data Exploration"
   ]
  },
  {
   "cell_type": "code",
   "execution_count": 144,
   "metadata": {},
   "outputs": [
    {
     "data": {
      "text/html": [
       "<div>\n",
       "<style scoped>\n",
       "    .dataframe tbody tr th:only-of-type {\n",
       "        vertical-align: middle;\n",
       "    }\n",
       "\n",
       "    .dataframe tbody tr th {\n",
       "        vertical-align: top;\n",
       "    }\n",
       "\n",
       "    .dataframe thead th {\n",
       "        text-align: right;\n",
       "    }\n",
       "</style>\n",
       "<table border=\"1\" class=\"dataframe\">\n",
       "  <thead>\n",
       "    <tr style=\"text-align: right;\">\n",
       "      <th></th>\n",
       "      <th>pet_category</th>\n",
       "      <th>breed_category</th>\n",
       "      <th>length(cm)</th>\n",
       "      <th>height(cm)</th>\n",
       "      <th>X1</th>\n",
       "      <th>X2</th>\n",
       "    </tr>\n",
       "  </thead>\n",
       "  <tbody>\n",
       "    <tr>\n",
       "      <th>0</th>\n",
       "      <td>0</td>\n",
       "      <td>0.0</td>\n",
       "      <td>61.766667</td>\n",
       "      <td>22.854667</td>\n",
       "      <td>3.500000</td>\n",
       "      <td>3.466667</td>\n",
       "    </tr>\n",
       "    <tr>\n",
       "      <th>1</th>\n",
       "      <td>0</td>\n",
       "      <td>1.0</td>\n",
       "      <td>50.714286</td>\n",
       "      <td>17.662857</td>\n",
       "      <td>11.428571</td>\n",
       "      <td>4.571429</td>\n",
       "    </tr>\n",
       "    <tr>\n",
       "      <th>2</th>\n",
       "      <td>0</td>\n",
       "      <td>2.0</td>\n",
       "      <td>55.372549</td>\n",
       "      <td>28.399804</td>\n",
       "      <td>7.627451</td>\n",
       "      <td>3.549020</td>\n",
       "    </tr>\n",
       "    <tr>\n",
       "      <th>3</th>\n",
       "      <td>1</td>\n",
       "      <td>0.0</td>\n",
       "      <td>49.504225</td>\n",
       "      <td>27.341283</td>\n",
       "      <td>7.068858</td>\n",
       "      <td>4.469171</td>\n",
       "    </tr>\n",
       "    <tr>\n",
       "      <th>4</th>\n",
       "      <td>1</td>\n",
       "      <td>1.0</td>\n",
       "      <td>51.382560</td>\n",
       "      <td>27.861080</td>\n",
       "      <td>6.997651</td>\n",
       "      <td>4.401938</td>\n",
       "    </tr>\n",
       "    <tr>\n",
       "      <th>5</th>\n",
       "      <td>1</td>\n",
       "      <td>2.0</td>\n",
       "      <td>50.394511</td>\n",
       "      <td>27.214786</td>\n",
       "      <td>13.543739</td>\n",
       "      <td>8.113208</td>\n",
       "    </tr>\n",
       "    <tr>\n",
       "      <th>6</th>\n",
       "      <td>2</td>\n",
       "      <td>0.0</td>\n",
       "      <td>50.241567</td>\n",
       "      <td>27.246260</td>\n",
       "      <td>3.114547</td>\n",
       "      <td>4.588018</td>\n",
       "    </tr>\n",
       "    <tr>\n",
       "      <th>7</th>\n",
       "      <td>2</td>\n",
       "      <td>1.0</td>\n",
       "      <td>49.790101</td>\n",
       "      <td>27.453748</td>\n",
       "      <td>3.349764</td>\n",
       "      <td>4.380160</td>\n",
       "    </tr>\n",
       "    <tr>\n",
       "      <th>8</th>\n",
       "      <td>2</td>\n",
       "      <td>2.0</td>\n",
       "      <td>46.950000</td>\n",
       "      <td>25.528667</td>\n",
       "      <td>10.466667</td>\n",
       "      <td>7.183333</td>\n",
       "    </tr>\n",
       "    <tr>\n",
       "      <th>9</th>\n",
       "      <td>4</td>\n",
       "      <td>0.0</td>\n",
       "      <td>54.120482</td>\n",
       "      <td>28.255301</td>\n",
       "      <td>7.506024</td>\n",
       "      <td>4.843373</td>\n",
       "    </tr>\n",
       "    <tr>\n",
       "      <th>10</th>\n",
       "      <td>4</td>\n",
       "      <td>1.0</td>\n",
       "      <td>47.426667</td>\n",
       "      <td>27.138400</td>\n",
       "      <td>6.026667</td>\n",
       "      <td>4.000000</td>\n",
       "    </tr>\n",
       "    <tr>\n",
       "      <th>11</th>\n",
       "      <td>4</td>\n",
       "      <td>2.0</td>\n",
       "      <td>50.840358</td>\n",
       "      <td>28.003678</td>\n",
       "      <td>13.411239</td>\n",
       "      <td>4.233716</td>\n",
       "    </tr>\n",
       "  </tbody>\n",
       "</table>\n",
       "</div>"
      ],
      "text/plain": [
       "    pet_category  breed_category  length(cm)  height(cm)         X1        X2\n",
       "0              0             0.0   61.766667   22.854667   3.500000  3.466667\n",
       "1              0             1.0   50.714286   17.662857  11.428571  4.571429\n",
       "2              0             2.0   55.372549   28.399804   7.627451  3.549020\n",
       "3              1             0.0   49.504225   27.341283   7.068858  4.469171\n",
       "4              1             1.0   51.382560   27.861080   6.997651  4.401938\n",
       "5              1             2.0   50.394511   27.214786  13.543739  8.113208\n",
       "6              2             0.0   50.241567   27.246260   3.114547  4.588018\n",
       "7              2             1.0   49.790101   27.453748   3.349764  4.380160\n",
       "8              2             2.0   46.950000   25.528667  10.466667  7.183333\n",
       "9              4             0.0   54.120482   28.255301   7.506024  4.843373\n",
       "10             4             1.0   47.426667   27.138400   6.026667  4.000000\n",
       "11             4             2.0   50.840358   28.003678  13.411239  4.233716"
      ]
     },
     "execution_count": 144,
     "metadata": {},
     "output_type": "execute_result"
    }
   ],
   "source": [
    "dataC.groupby(['pet_category','breed_category'],as_index=False).agg({'length(cm)':np.mean,'height(cm)':np.mean,'X1':np.mean,'X2':np.mean})"
   ]
  },
  {
   "cell_type": "markdown",
   "metadata": {},
   "source": [
    "We can see that each category has distinctive values for X1, X2 ,length and height so these features might help in identifying the targets"
   ]
  },
  {
   "cell_type": "code",
   "execution_count": 145,
   "metadata": {},
   "outputs": [
    {
     "data": {
      "text/plain": [
       "<matplotlib.axes._subplots.AxesSubplot at 0x1bd4c0d8ac8>"
      ]
     },
     "execution_count": 145,
     "metadata": {},
     "output_type": "execute_result"
    },
    {
     "data": {
      "image/png": "[encoded data removed]",
      "text/plain": [
       "<Figure size 432x288 with 1 Axes>"
      ]
     },
     "metadata": {
      "needs_background": "light"
     },
     "output_type": "display_data"
    }
   ],
   "source": [
    "sns.barplot(data=dataC.groupby(['pet_category'],as_index=False).agg({'diff_days':np.mean}),x=\"pet_category\",y=\"diff_days\")"
   ]
  },
  {
   "cell_type": "markdown",
   "metadata": {},
   "source": [
    " We can see that difference between issue date and listing date gives us a clear ditinction in the pet category"
   ]
  },
  {
   "cell_type": "code",
   "execution_count": 146,
   "metadata": {},
   "outputs": [
    {
     "data": {
      "text/plain": [
       "<matplotlib.axes._subplots.AxesSubplot at 0x1bd4b0e5488>"
      ]
     },
     "execution_count": 146,
     "metadata": {},
     "output_type": "execute_result"
    },
    {
     "data": {
      "image/png": "[encoded data removed]",
      "text/plain": [
       "<Figure size 432x288 with 1 Axes>"
      ]
     },
     "metadata": {
      "needs_background": "light"
     },
     "output_type": "display_data"
    }
   ],
   "source": [
    "sns.barplot(data=dataC.groupby(['breed_category'],as_index=False).agg({'diff_days':np.mean}),x=\"breed_category\",y=\"diff_days\")"
   ]
  },
  {
   "cell_type": "markdown",
   "metadata": {},
   "source": [
    "Diff_days plays a vital role in identifying the breed category too"
   ]
  },
  {
   "cell_type": "code",
   "execution_count": 147,
   "metadata": {},
   "outputs": [],
   "source": [
    "plotdata=dataC.groupby(['pet_category','breed_category'],as_index=False).agg({'diff_days':np.mean})"
   ]
  },
  {
   "cell_type": "code",
   "execution_count": 148,
   "metadata": {},
   "outputs": [
    {
     "data": {
      "text/plain": [
       "<seaborn.axisgrid.FacetGrid at 0x1bd3ae8c8c8>"
      ]
     },
     "execution_count": 148,
     "metadata": {},
     "output_type": "execute_result"
    },
    {
     "data": {
      "image/png": "[encoded data removed]",
      "text/plain": [
       "<Figure size 446x360 with 1 Axes>"
      ]
     },
     "metadata": {
      "needs_background": "light"
     },
     "output_type": "display_data"
    }
   ],
   "source": [
    "sns.catplot(data=plotdata,x=\"pet_category\",y=\"diff_days\",hue=\"breed_category\",kind=\"bar\")"
   ]
  },
  {
   "cell_type": "markdown",
   "metadata": {},
   "source": [
    "Within each category difference of days clearly shows a non linera relationship."
   ]
  },
  {
   "cell_type": "code",
   "execution_count": 149,
   "metadata": {},
   "outputs": [
    {
     "data": {
      "text/plain": [
       "<matplotlib.axes._subplots.AxesSubplot at 0x1bd4c03c2c8>"
      ]
     },
     "execution_count": 149,
     "metadata": {},
     "output_type": "execute_result"
    },
    {
     "data": {
      "image/png": "[encoded data removed]",
      "text/plain": [
       "<Figure size 432x288 with 1 Axes>"
      ]
     },
     "metadata": {
      "needs_background": "light"
     },
     "output_type": "display_data"
    }
   ],
   "source": [
    "sns.boxplot(data=dataC,x=\"pet_category\",y=\"X1\")"
   ]
  },
  {
   "cell_type": "code",
   "execution_count": 150,
   "metadata": {},
   "outputs": [
    {
     "data": {
      "text/plain": [
       "<seaborn.axisgrid.FacetGrid at 0x1bd4bebbe08>"
      ]
     },
     "execution_count": 150,
     "metadata": {},
     "output_type": "execute_result"
    },
    {
     "data": {
      "image/png": "[encoded data removed]",
      "text/plain": [
       "<Figure size 1440x360 with 4 Axes>"
      ]
     },
     "metadata": {
      "needs_background": "light"
     },
     "output_type": "display_data"
    }
   ],
   "source": [
    "sns.catplot(data=dataC,col=\"pet_category\",y=\"X1\",x=\"breed_category\",kind=\"box\")"
   ]
  },
  {
   "cell_type": "code",
   "execution_count": 151,
   "metadata": {},
   "outputs": [
    {
     "data": {
      "text/plain": [
       "<matplotlib.axes._subplots.AxesSubplot at 0x1bd4c767488>"
      ]
     },
     "execution_count": 151,
     "metadata": {},
     "output_type": "execute_result"
    },
    {
     "data": {
      "image/png": "[encoded data removed]",
      "text/plain": [
       "<Figure size 432x288 with 1 Axes>"
      ]
     },
     "metadata": {
      "needs_background": "light"
     },
     "output_type": "display_data"
    }
   ],
   "source": [
    "sns.boxplot(data=dataC,x=\"pet_category\",y=\"X2\")"
   ]
  },
  {
   "cell_type": "code",
   "execution_count": 152,
   "metadata": {},
   "outputs": [
    {
     "data": {
      "text/plain": [
       "<seaborn.axisgrid.FacetGrid at 0x1bd4ccb0248>"
      ]
     },
     "execution_count": 152,
     "metadata": {},
     "output_type": "execute_result"
    },
    {
     "data": {
      "image/png": "[encoded data removed]",
      "text/plain": [
       "<Figure size 1440x360 with 4 Axes>"
      ]
     },
     "metadata": {
      "needs_background": "light"
     },
     "output_type": "display_data"
    }
   ],
   "source": [
    "sns.catplot(data=dataC,col=\"pet_category\",y=\"X2\",x=\"breed_category\",kind=\"box\")"
   ]
  },
  {
   "cell_type": "code",
   "execution_count": 153,
   "metadata": {},
   "outputs": [
    {
     "data": {
      "text/plain": [
       "<matplotlib.axes._subplots.AxesSubplot at 0x1bd4d373288>"
      ]
     },
     "execution_count": 153,
     "metadata": {},
     "output_type": "execute_result"
    },
    {
     "data": {
      "image/png": "[encoded data removed]",
      "text/plain": [
       "<Figure size 432x288 with 1 Axes>"
      ]
     },
     "metadata": {
      "needs_background": "light"
     },
     "output_type": "display_data"
    }
   ],
   "source": [
    "sns.boxplot(data=dataC,x=\"pet_category\",y='height(cm)')"
   ]
  },
  {
   "cell_type": "code",
   "execution_count": 154,
   "metadata": {},
   "outputs": [
    {
     "data": {
      "text/plain": [
       "<matplotlib.axes._subplots.AxesSubplot at 0x1bd4cc6b608>"
      ]
     },
     "execution_count": 154,
     "metadata": {},
     "output_type": "execute_result"
    },
    {
     "data": {
      "image/png": "[encoded data removed]",
      "text/plain": [
       "<Figure size 432x288 with 1 Axes>"
      ]
     },
     "metadata": {
      "needs_background": "light"
     },
     "output_type": "display_data"
    }
   ],
   "source": [
    "sns.boxplot(data=dataC,x=\"pet_category\",y='length(cm)')"
   ]
  },
  {
   "cell_type": "code",
   "execution_count": 155,
   "metadata": {},
   "outputs": [
    {
     "data": {
      "text/plain": [
       "<matplotlib.axes._subplots.AxesSubplot at 0x1bd4cf2f308>"
      ]
     },
     "execution_count": 155,
     "metadata": {},
     "output_type": "execute_result"
    },
    {
     "data": {
      "image/png": "[encoded data removed]",
      "text/plain": [
       "<Figure size 432x288 with 1 Axes>"
      ]
     },
     "metadata": {
      "needs_background": "light"
     },
     "output_type": "display_data"
    }
   ],
   "source": [
    "sns.boxplot(data=dataC,x=\"breed_category\",y='height(cm)')"
   ]
  },
  {
   "cell_type": "code",
   "execution_count": 156,
   "metadata": {},
   "outputs": [
    {
     "data": {
      "text/plain": [
       "<matplotlib.axes._subplots.AxesSubplot at 0x1bd4cfd0788>"
      ]
     },
     "execution_count": 156,
     "metadata": {},
     "output_type": "execute_result"
    },
    {
     "data": {
      "image/png": "[encoded data removed]",
      "text/plain": [
       "<Figure size 432x288 with 1 Axes>"
      ]
     },
     "metadata": {
      "needs_background": "light"
     },
     "output_type": "display_data"
    }
   ],
   "source": [
    "sns.boxplot(data=dataC,x=\"pet_category\",y='length(cm)')"
   ]
  },
  {
   "cell_type": "code",
   "execution_count": 157,
   "metadata": {},
   "outputs": [
    {
     "data": {
      "text/plain": [
       "<seaborn.axisgrid.FacetGrid at 0x1bd4cf22488>"
      ]
     },
     "execution_count": 157,
     "metadata": {},
     "output_type": "execute_result"
    },
    {
     "data": {
      "image/png": "[encoded data removed]",
      "text/plain": [
       "<Figure size 1440x360 with 4 Axes>"
      ]
     },
     "metadata": {
      "needs_background": "light"
     },
     "output_type": "display_data"
    }
   ],
   "source": [
    "sns.catplot(data=dataC,col=\"pet_category\",y=\"height(cm)\",x=\"breed_category\",kind=\"box\")"
   ]
  },
  {
   "cell_type": "code",
   "execution_count": 158,
   "metadata": {},
   "outputs": [
    {
     "data": {
      "text/plain": [
       "<seaborn.axisgrid.FacetGrid at 0x1bd4d5ce988>"
      ]
     },
     "execution_count": 158,
     "metadata": {},
     "output_type": "execute_result"
    },
    {
     "data": {
      "image/png": "[encoded data removed]",
      "text/plain": [
       "<Figure size 1440x360 with 4 Axes>"
      ]
     },
     "metadata": {
      "needs_background": "light"
     },
     "output_type": "display_data"
    }
   ],
   "source": [
    "sns.catplot(data=dataC,col=\"pet_category\",y=\"length(cm)\",x=\"breed_category\",kind=\"box\")"
   ]
  },
  {
   "cell_type": "markdown",
   "metadata": {},
   "source": [
    "We can see that height and length do not help in finding the pet category and there are few datapoints with 0 as length. We can try to find the ratio between height and length and try to find any insights."
   ]
  },
  {
   "cell_type": "code",
   "execution_count": 159,
   "metadata": {},
   "outputs": [
    {
     "data": {
      "text/html": [
       "<div>\n",
       "<style scoped>\n",
       "    .dataframe tbody tr th:only-of-type {\n",
       "        vertical-align: middle;\n",
       "    }\n",
       "\n",
       "    .dataframe tbody tr th {\n",
       "        vertical-align: top;\n",
       "    }\n",
       "\n",
       "    .dataframe thead th {\n",
       "        text-align: right;\n",
       "    }\n",
       "</style>\n",
       "<table border=\"1\" class=\"dataframe\">\n",
       "  <thead>\n",
       "    <tr style=\"text-align: right;\">\n",
       "      <th></th>\n",
       "      <th>condition</th>\n",
       "      <th>length(m)</th>\n",
       "      <th>height(cm)</th>\n",
       "      <th>X1</th>\n",
       "      <th>X2</th>\n",
       "      <th>breed_category</th>\n",
       "      <th>pet_category</th>\n",
       "      <th>diff_days</th>\n",
       "      <th>length(cm)</th>\n",
       "    </tr>\n",
       "  </thead>\n",
       "  <tbody>\n",
       "    <tr>\n",
       "      <th>count</th>\n",
       "      <td>18834.000000</td>\n",
       "      <td>18834.000000</td>\n",
       "      <td>18834.000000</td>\n",
       "      <td>18834.000000</td>\n",
       "      <td>18834.000000</td>\n",
       "      <td>18834.000000</td>\n",
       "      <td>18834.000000</td>\n",
       "      <td>18834.000000</td>\n",
       "      <td>18834.000000</td>\n",
       "    </tr>\n",
       "    <tr>\n",
       "      <th>mean</th>\n",
       "      <td>0.951736</td>\n",
       "      <td>0.502636</td>\n",
       "      <td>27.448832</td>\n",
       "      <td>5.369598</td>\n",
       "      <td>4.577307</td>\n",
       "      <td>0.600563</td>\n",
       "      <td>1.709143</td>\n",
       "      <td>855.306786</td>\n",
       "      <td>50.263566</td>\n",
       "    </tr>\n",
       "    <tr>\n",
       "      <th>std</th>\n",
       "      <td>0.795007</td>\n",
       "      <td>0.288705</td>\n",
       "      <td>13.019781</td>\n",
       "      <td>6.572366</td>\n",
       "      <td>3.517763</td>\n",
       "      <td>0.629883</td>\n",
       "      <td>0.717919</td>\n",
       "      <td>1096.674990</td>\n",
       "      <td>28.870505</td>\n",
       "    </tr>\n",
       "    <tr>\n",
       "      <th>min</th>\n",
       "      <td>0.000000</td>\n",
       "      <td>0.000000</td>\n",
       "      <td>5.000000</td>\n",
       "      <td>0.000000</td>\n",
       "      <td>0.000000</td>\n",
       "      <td>0.000000</td>\n",
       "      <td>0.000000</td>\n",
       "      <td>-76.000000</td>\n",
       "      <td>0.000000</td>\n",
       "    </tr>\n",
       "    <tr>\n",
       "      <th>25%</th>\n",
       "      <td>0.000000</td>\n",
       "      <td>0.250000</td>\n",
       "      <td>16.172500</td>\n",
       "      <td>0.000000</td>\n",
       "      <td>1.000000</td>\n",
       "      <td>0.000000</td>\n",
       "      <td>1.000000</td>\n",
       "      <td>119.000000</td>\n",
       "      <td>25.000000</td>\n",
       "    </tr>\n",
       "    <tr>\n",
       "      <th>50%</th>\n",
       "      <td>1.000000</td>\n",
       "      <td>0.500000</td>\n",
       "      <td>27.340000</td>\n",
       "      <td>0.000000</td>\n",
       "      <td>4.000000</td>\n",
       "      <td>1.000000</td>\n",
       "      <td>2.000000</td>\n",
       "      <td>392.000000</td>\n",
       "      <td>50.000000</td>\n",
       "    </tr>\n",
       "    <tr>\n",
       "      <th>75%</th>\n",
       "      <td>2.000000</td>\n",
       "      <td>0.760000</td>\n",
       "      <td>38.890000</td>\n",
       "      <td>13.000000</td>\n",
       "      <td>9.000000</td>\n",
       "      <td>1.000000</td>\n",
       "      <td>2.000000</td>\n",
       "      <td>1117.000000</td>\n",
       "      <td>76.000000</td>\n",
       "    </tr>\n",
       "    <tr>\n",
       "      <th>max</th>\n",
       "      <td>2.000000</td>\n",
       "      <td>1.000000</td>\n",
       "      <td>50.000000</td>\n",
       "      <td>19.000000</td>\n",
       "      <td>9.000000</td>\n",
       "      <td>2.000000</td>\n",
       "      <td>4.000000</td>\n",
       "      <td>8056.000000</td>\n",
       "      <td>100.000000</td>\n",
       "    </tr>\n",
       "  </tbody>\n",
       "</table>\n",
       "</div>"
      ],
      "text/plain": [
       "          condition     length(m)    height(cm)            X1            X2  \\\n",
       "count  18834.000000  18834.000000  18834.000000  18834.000000  18834.000000   \n",
       "mean       0.951736      0.502636     27.448832      5.369598      4.577307   \n",
       "std        0.795007      0.288705     13.019781      6.572366      3.517763   \n",
       "min        0.000000      0.000000      5.000000      0.000000      0.000000   \n",
       "25%        0.000000      0.250000     16.172500      0.000000      1.000000   \n",
       "50%        1.000000      0.500000     27.340000      0.000000      4.000000   \n",
       "75%        2.000000      0.760000     38.890000     13.000000      9.000000   \n",
       "max        2.000000      1.000000     50.000000     19.000000      9.000000   \n",
       "\n",
       "       breed_category  pet_category     diff_days    length(cm)  \n",
       "count    18834.000000  18834.000000  18834.000000  18834.000000  \n",
       "mean         0.600563      1.709143    855.306786     50.263566  \n",
       "std          0.629883      0.717919   1096.674990     28.870505  \n",
       "min          0.000000      0.000000    -76.000000      0.000000  \n",
       "25%          0.000000      1.000000    119.000000     25.000000  \n",
       "50%          1.000000      2.000000    392.000000     50.000000  \n",
       "75%          1.000000      2.000000   1117.000000     76.000000  \n",
       "max          2.000000      4.000000   8056.000000    100.000000  "
      ]
     },
     "execution_count": 159,
     "metadata": {},
     "output_type": "execute_result"
    }
   ],
   "source": [
    "dataC.describe()"
   ]
  },
  {
   "cell_type": "markdown",
   "metadata": {},
   "source": [
    "50% of the data has 0 as length we can fill that with the lower quantile value or else it would be difficult to formulate a new feature from it."
   ]
  },
  {
   "cell_type": "code",
   "execution_count": 160,
   "metadata": {},
   "outputs": [
    {
     "data": {
      "text/plain": [
       "1209"
      ]
     },
     "execution_count": 160,
     "metadata": {},
     "output_type": "execute_result"
    }
   ],
   "source": [
    "dataC[dataC['length(cm)']==0].size"
   ]
  },
  {
   "cell_type": "code",
   "execution_count": 161,
   "metadata": {},
   "outputs": [],
   "source": [
    "value=dataC['length(cm)'].quantile(q=0.25)\n",
    "dataC['length(cm)'] = dataC['length(cm)'].replace(to_replace=0, value=value)"
   ]
  },
  {
   "cell_type": "code",
   "execution_count": 162,
   "metadata": {},
   "outputs": [
    {
     "data": {
      "text/html": [
       "<div>\n",
       "<style scoped>\n",
       "    .dataframe tbody tr th:only-of-type {\n",
       "        vertical-align: middle;\n",
       "    }\n",
       "\n",
       "    .dataframe tbody tr th {\n",
       "        vertical-align: top;\n",
       "    }\n",
       "\n",
       "    .dataframe thead th {\n",
       "        text-align: right;\n",
       "    }\n",
       "</style>\n",
       "<table border=\"1\" class=\"dataframe\">\n",
       "  <thead>\n",
       "    <tr style=\"text-align: right;\">\n",
       "      <th></th>\n",
       "      <th>condition</th>\n",
       "      <th>length(m)</th>\n",
       "      <th>height(cm)</th>\n",
       "      <th>X1</th>\n",
       "      <th>X2</th>\n",
       "      <th>breed_category</th>\n",
       "      <th>pet_category</th>\n",
       "      <th>diff_days</th>\n",
       "      <th>length(cm)</th>\n",
       "    </tr>\n",
       "  </thead>\n",
       "  <tbody>\n",
       "    <tr>\n",
       "      <th>count</th>\n",
       "      <td>18834.000000</td>\n",
       "      <td>18834.000000</td>\n",
       "      <td>18834.000000</td>\n",
       "      <td>18834.000000</td>\n",
       "      <td>18834.000000</td>\n",
       "      <td>18834.000000</td>\n",
       "      <td>18834.000000</td>\n",
       "      <td>18834.000000</td>\n",
       "      <td>18834.000000</td>\n",
       "    </tr>\n",
       "    <tr>\n",
       "      <th>mean</th>\n",
       "      <td>0.951736</td>\n",
       "      <td>0.502636</td>\n",
       "      <td>27.448832</td>\n",
       "      <td>5.369598</td>\n",
       "      <td>4.577307</td>\n",
       "      <td>0.600563</td>\n",
       "      <td>1.709143</td>\n",
       "      <td>855.306786</td>\n",
       "      <td>50.387013</td>\n",
       "    </tr>\n",
       "    <tr>\n",
       "      <th>std</th>\n",
       "      <td>0.795007</td>\n",
       "      <td>0.288705</td>\n",
       "      <td>13.019781</td>\n",
       "      <td>6.572366</td>\n",
       "      <td>3.517763</td>\n",
       "      <td>0.629883</td>\n",
       "      <td>0.717919</td>\n",
       "      <td>1096.674990</td>\n",
       "      <td>28.708304</td>\n",
       "    </tr>\n",
       "    <tr>\n",
       "      <th>min</th>\n",
       "      <td>0.000000</td>\n",
       "      <td>0.000000</td>\n",
       "      <td>5.000000</td>\n",
       "      <td>0.000000</td>\n",
       "      <td>0.000000</td>\n",
       "      <td>0.000000</td>\n",
       "      <td>0.000000</td>\n",
       "      <td>-76.000000</td>\n",
       "      <td>1.000000</td>\n",
       "    </tr>\n",
       "    <tr>\n",
       "      <th>25%</th>\n",
       "      <td>0.000000</td>\n",
       "      <td>0.250000</td>\n",
       "      <td>16.172500</td>\n",
       "      <td>0.000000</td>\n",
       "      <td>1.000000</td>\n",
       "      <td>0.000000</td>\n",
       "      <td>1.000000</td>\n",
       "      <td>119.000000</td>\n",
       "      <td>25.000000</td>\n",
       "    </tr>\n",
       "    <tr>\n",
       "      <th>50%</th>\n",
       "      <td>1.000000</td>\n",
       "      <td>0.500000</td>\n",
       "      <td>27.340000</td>\n",
       "      <td>0.000000</td>\n",
       "      <td>4.000000</td>\n",
       "      <td>1.000000</td>\n",
       "      <td>2.000000</td>\n",
       "      <td>392.000000</td>\n",
       "      <td>50.000000</td>\n",
       "    </tr>\n",
       "    <tr>\n",
       "      <th>75%</th>\n",
       "      <td>2.000000</td>\n",
       "      <td>0.760000</td>\n",
       "      <td>38.890000</td>\n",
       "      <td>13.000000</td>\n",
       "      <td>9.000000</td>\n",
       "      <td>1.000000</td>\n",
       "      <td>2.000000</td>\n",
       "      <td>1117.000000</td>\n",
       "      <td>76.000000</td>\n",
       "    </tr>\n",
       "    <tr>\n",
       "      <th>max</th>\n",
       "      <td>2.000000</td>\n",
       "      <td>1.000000</td>\n",
       "      <td>50.000000</td>\n",
       "      <td>19.000000</td>\n",
       "      <td>9.000000</td>\n",
       "      <td>2.000000</td>\n",
       "      <td>4.000000</td>\n",
       "      <td>8056.000000</td>\n",
       "      <td>100.000000</td>\n",
       "    </tr>\n",
       "  </tbody>\n",
       "</table>\n",
       "</div>"
      ],
      "text/plain": [
       "          condition     length(m)    height(cm)            X1            X2  \\\n",
       "count  18834.000000  18834.000000  18834.000000  18834.000000  18834.000000   \n",
       "mean       0.951736      0.502636     27.448832      5.369598      4.577307   \n",
       "std        0.795007      0.288705     13.019781      6.572366      3.517763   \n",
       "min        0.000000      0.000000      5.000000      0.000000      0.000000   \n",
       "25%        0.000000      0.250000     16.172500      0.000000      1.000000   \n",
       "50%        1.000000      0.500000     27.340000      0.000000      4.000000   \n",
       "75%        2.000000      0.760000     38.890000     13.000000      9.000000   \n",
       "max        2.000000      1.000000     50.000000     19.000000      9.000000   \n",
       "\n",
       "       breed_category  pet_category     diff_days    length(cm)  \n",
       "count    18834.000000  18834.000000  18834.000000  18834.000000  \n",
       "mean         0.600563      1.709143    855.306786     50.387013  \n",
       "std          0.629883      0.717919   1096.674990     28.708304  \n",
       "min          0.000000      0.000000    -76.000000      1.000000  \n",
       "25%          0.000000      1.000000    119.000000     25.000000  \n",
       "50%          1.000000      2.000000    392.000000     50.000000  \n",
       "75%          1.000000      2.000000   1117.000000     76.000000  \n",
       "max          2.000000      4.000000   8056.000000    100.000000  "
      ]
     },
     "execution_count": 162,
     "metadata": {},
     "output_type": "execute_result"
    }
   ],
   "source": [
    "dataC.describe()"
   ]
  },
  {
   "cell_type": "code",
   "execution_count": 163,
   "metadata": {},
   "outputs": [],
   "source": [
    "dataC['Ratio_HL']=dataC['length(cm)']/dataC['height(cm)']"
   ]
  },
  {
   "cell_type": "code",
   "execution_count": 164,
   "metadata": {},
   "outputs": [
    {
     "data": {
      "text/plain": [
       "<matplotlib.axes._subplots.AxesSubplot at 0x1bd4dcd5588>"
      ]
     },
     "execution_count": 164,
     "metadata": {},
     "output_type": "execute_result"
    },
    {
     "data": {
      "image/png": "[encoded data removed]",
      "text/plain": [
       "<Figure size 432x288 with 1 Axes>"
      ]
     },
     "metadata": {
      "needs_background": "light"
     },
     "output_type": "display_data"
    }
   ],
   "source": [
    "#plt.figure(figsize=(15,10))\n",
    "plt.ylim(0, 5)\n",
    "sns.boxplot(data=dataC,x='pet_category',y='Ratio_HL')"
   ]
  },
  {
   "cell_type": "code",
   "execution_count": 165,
   "metadata": {},
   "outputs": [
    {
     "data": {
      "text/plain": [
       "<seaborn.axisgrid.FacetGrid at 0x1bd4dce7708>"
      ]
     },
     "execution_count": 165,
     "metadata": {},
     "output_type": "execute_result"
    },
    {
     "data": {
      "image/png": "[encoded data removed]",
      "text/plain": [
       "<Figure size 1080x720 with 4 Axes>"
      ]
     },
     "metadata": {
      "needs_background": "light"
     },
     "output_type": "display_data"
    }
   ],
   "source": [
    "sns.catplot(data=dataC,col=\"pet_category\",y=\"Ratio_HL\",x=\"breed_category\",kind=\"box\",col_wrap=3)"
   ]
  },
  {
   "cell_type": "markdown",
   "metadata": {},
   "source": [
    "Instead of using the length we have created a new feature combining the length and height and using this feature we can see it shows diffenent values for each category this may play a vital role"
   ]
  },
  {
   "cell_type": "code",
   "execution_count": 166,
   "metadata": {},
   "outputs": [
    {
     "data": {
      "text/plain": [
       "color_type      pet_category  breed_category\n",
       "Agouti          2             0.0                  1\n",
       "                              1.0                  1\n",
       "                4             1.0                  1\n",
       "                              2.0                  1\n",
       "Apricot         2             0.0                  6\n",
       "                              1.0                  7\n",
       "Black           0             0.0                 12\n",
       "                              1.0                  2\n",
       "                              2.0                  2\n",
       "                1             0.0                867\n",
       "                              1.0                673\n",
       "                              2.0                141\n",
       "                2             0.0               1471\n",
       "                              1.0               1242\n",
       "                              2.0                 17\n",
       "                4             0.0                 17\n",
       "                              1.0                 13\n",
       "                              2.0                163\n",
       "Black Brindle   2             0.0                 39\n",
       "                              1.0                 27\n",
       "Black Smoke     1             0.0                 14\n",
       "                              1.0                 14\n",
       "                              2.0                  2\n",
       "                2             0.0                  1\n",
       "                              1.0                  1\n",
       "Black Tabby     1             0.0                 22\n",
       "                              1.0                 19\n",
       "                              2.0                 14\n",
       "Black Tiger     2             1.0                  1\n",
       "Blue            0             0.0                  1\n",
       "                                                ... \n",
       "Tricolor        0             2.0                  2\n",
       "                1             1.0                  1\n",
       "                2             0.0                238\n",
       "                              1.0                216\n",
       "                4             0.0                  3\n",
       "                              1.0                  2\n",
       "                              2.0                  6\n",
       "White           0             0.0                  9\n",
       "                              1.0                  2\n",
       "                              2.0                  4\n",
       "                1             0.0                203\n",
       "                              1.0                191\n",
       "                              2.0                 39\n",
       "                2             0.0               1012\n",
       "                              1.0                891\n",
       "                              2.0                 14\n",
       "                4             0.0                 35\n",
       "                              1.0                 27\n",
       "                              2.0                 26\n",
       "Yellow          0             0.0                  1\n",
       "                              2.0                  4\n",
       "                1             0.0                  1\n",
       "                              1.0                  1\n",
       "                              2.0                  1\n",
       "                2             0.0                 74\n",
       "                              1.0                 59\n",
       "                              2.0                  1\n",
       "                4             0.0                  1\n",
       "Yellow Brindle  2             0.0                  8\n",
       "                              1.0                  7\n",
       "Length: 237, dtype: int64"
      ]
     },
     "execution_count": 166,
     "metadata": {},
     "output_type": "execute_result"
    }
   ],
   "source": [
    "dataC.groupby(['color_type','pet_category','breed_category'],as_index=False).size()"
   ]
  },
  {
   "cell_type": "markdown",
   "metadata": {},
   "source": [
    "We can see that major color type represents the pet and breed category so this featue might be useful."
   ]
  },
  {
   "cell_type": "code",
   "execution_count": 167,
   "metadata": {},
   "outputs": [
    {
     "data": {
      "text/plain": [
       "pet_category\n",
       "0       88\n",
       "1     7184\n",
       "2    10621\n",
       "4      941\n",
       "dtype: int64"
      ]
     },
     "execution_count": 167,
     "metadata": {},
     "output_type": "execute_result"
    }
   ],
   "source": [
    "dataC.groupby('pet_category').size()"
   ]
  },
  {
   "cell_type": "markdown",
   "metadata": {},
   "source": [
    "We can see the date is skewed we'll handle this later as this may affect the model training"
   ]
  },
  {
   "cell_type": "code",
   "execution_count": 168,
   "metadata": {},
   "outputs": [
    {
     "data": {
      "text/plain": [
       "pet_category  breed_category\n",
       "0             0.0                 30\n",
       "              1.0                  7\n",
       "              2.0                 51\n",
       "1             0.0               3195\n",
       "              1.0               3406\n",
       "              2.0                583\n",
       "2             0.0               5692\n",
       "              1.0               4869\n",
       "              2.0                 60\n",
       "4             0.0                 83\n",
       "              1.0                 75\n",
       "              2.0                783\n",
       "dtype: int64"
      ]
     },
     "execution_count": 168,
     "metadata": {},
     "output_type": "execute_result"
    }
   ],
   "source": [
    "dataC.groupby(['pet_category','breed_category']).size()"
   ]
  },
  {
   "cell_type": "code",
   "execution_count": 169,
   "metadata": {},
   "outputs": [
    {
     "data": {
      "text/plain": [
       "<matplotlib.axes._subplots.AxesSubplot at 0x1bd4e138188>"
      ]
     },
     "execution_count": 169,
     "metadata": {},
     "output_type": "execute_result"
    },
    {
     "data": {
      "image/png": "[encoded data removed]",
      "text/plain": [
       "<Figure size 1080x720 with 2 Axes>"
      ]
     },
     "metadata": {
      "needs_background": "light"
     },
     "output_type": "display_data"
    }
   ],
   "source": [
    "plt.figure(figsize=(15,10))\n",
    "sns.heatmap(dataC.corr(),annot=True)"
   ]
  },
  {
   "cell_type": "markdown",
   "metadata": {},
   "source": [
    "As we can see some correlatin with X1 and X2 we can try to find out any relationship amoung the targets and with some combination of X1 and X2"
   ]
  },
  {
   "cell_type": "code",
   "execution_count": 170,
   "metadata": {},
   "outputs": [],
   "source": [
    "dataC['X1-X2']=dataC['X1']-dataC['X2']\n",
    "\n",
    "\n",
    "dataC['X1*X2']=dataC['X1']*dataC['X2']\n",
    "dataC['X1/X2']=dataC['X1']/dataC['X2']\n",
    "\n",
    "dataC['X1+X2']=dataC['X2']+dataC['X1']"
   ]
  },
  {
   "cell_type": "code",
   "execution_count": 171,
   "metadata": {},
   "outputs": [
    {
     "data": {
      "text/plain": [
       "<matplotlib.axes._subplots.AxesSubplot at 0x1bd4f5f2fc8>"
      ]
     },
     "execution_count": 171,
     "metadata": {},
     "output_type": "execute_result"
    },
    {
     "data": {
      "image/png": "[encoded data removed]",
      "text/plain": [
       "<Figure size 432x288 with 1 Axes>"
      ]
     },
     "metadata": {
      "needs_background": "light"
     },
     "output_type": "display_data"
    }
   ],
   "source": [
    "sns.boxplot(data=dataC,y='X1-X2',x='pet_category')"
   ]
  },
  {
   "cell_type": "code",
   "execution_count": 172,
   "metadata": {},
   "outputs": [
    {
     "data": {
      "text/plain": [
       "<matplotlib.axes._subplots.AxesSubplot at 0x1bd4f666c48>"
      ]
     },
     "execution_count": 172,
     "metadata": {},
     "output_type": "execute_result"
    },
    {
     "data": {
      "image/png": "[encoded data removed]",
      "text/plain": [
       "<Figure size 432x288 with 1 Axes>"
      ]
     },
     "metadata": {
      "needs_background": "light"
     },
     "output_type": "display_data"
    }
   ],
   "source": [
    "sns.boxplot(data=dataC,y='X1+X2',x='pet_category')"
   ]
  },
  {
   "cell_type": "code",
   "execution_count": 173,
   "metadata": {},
   "outputs": [
    {
     "data": {
      "text/plain": [
       "<matplotlib.axes._subplots.AxesSubplot at 0x1bd4f96e088>"
      ]
     },
     "execution_count": 173,
     "metadata": {},
     "output_type": "execute_result"
    },
    {
     "data": {
      "image/png": "[encoded data removed]",
      "text/plain": [
       "<Figure size 432x288 with 1 Axes>"
      ]
     },
     "metadata": {
      "needs_background": "light"
     },
     "output_type": "display_data"
    }
   ],
   "source": [
    "sns.boxplot(data=dataC,y='X1*X2',x='pet_category')"
   ]
  },
  {
   "cell_type": "code",
   "execution_count": 174,
   "metadata": {},
   "outputs": [
    {
     "data": {
      "text/plain": [
       "<matplotlib.axes._subplots.AxesSubplot at 0x1bd4fd58488>"
      ]
     },
     "execution_count": 174,
     "metadata": {},
     "output_type": "execute_result"
    },
    {
     "data": {
      "image/png": "[encoded data removed]",
      "text/plain": [
       "<Figure size 432x288 with 1 Axes>"
      ]
     },
     "metadata": {
      "needs_background": "light"
     },
     "output_type": "display_data"
    }
   ],
   "source": [
    "sns.boxplot(data=dataC,y='X1/X2',x='pet_category')"
   ]
  },
  {
   "cell_type": "code",
   "execution_count": 175,
   "metadata": {},
   "outputs": [
    {
     "data": {
      "image/png": "[encoded data removed]",
      "text/plain": [
       "<Figure size 432x288 with 1 Axes>"
      ]
     },
     "metadata": {
      "needs_background": "light"
     },
     "output_type": "display_data"
    }
   ],
   "source": [
    "\n",
    "ax=sns.scatterplot(data=dataC,y='X1',x='X2',hue='pet_category',palette='RdBu_r')"
   ]
  },
  {
   "cell_type": "code",
   "execution_count": 176,
   "metadata": {},
   "outputs": [],
   "source": [
    "dataC.drop(columns=['X1-X2','X1*X2','X1+X2','X1/X2'],inplace=True)"
   ]
  },
  {
   "cell_type": "code",
   "execution_count": 177,
   "metadata": {},
   "outputs": [
    {
     "data": {
      "text/html": [
       "<div>\n",
       "<style scoped>\n",
       "    .dataframe tbody tr th:only-of-type {\n",
       "        vertical-align: middle;\n",
       "    }\n",
       "\n",
       "    .dataframe tbody tr th {\n",
       "        vertical-align: top;\n",
       "    }\n",
       "\n",
       "    .dataframe thead th {\n",
       "        text-align: right;\n",
       "    }\n",
       "</style>\n",
       "<table border=\"1\" class=\"dataframe\">\n",
       "  <thead>\n",
       "    <tr style=\"text-align: right;\">\n",
       "      <th></th>\n",
       "      <th>pet_id</th>\n",
       "      <th>issue_date</th>\n",
       "      <th>listing_date</th>\n",
       "      <th>condition</th>\n",
       "      <th>color_type</th>\n",
       "      <th>length(m)</th>\n",
       "      <th>height(cm)</th>\n",
       "      <th>X1</th>\n",
       "      <th>X2</th>\n",
       "      <th>breed_category</th>\n",
       "      <th>pet_category</th>\n",
       "      <th>diff_days</th>\n",
       "      <th>length(cm)</th>\n",
       "      <th>Ratio_HL</th>\n",
       "    </tr>\n",
       "  </thead>\n",
       "  <tbody>\n",
       "    <tr>\n",
       "      <th>0</th>\n",
       "      <td>ANSL_69903</td>\n",
       "      <td>2016-07-10</td>\n",
       "      <td>2016-09-21 16:25:00</td>\n",
       "      <td>2.0</td>\n",
       "      <td>Brown Tabby</td>\n",
       "      <td>0.80</td>\n",
       "      <td>7.78</td>\n",
       "      <td>13</td>\n",
       "      <td>9</td>\n",
       "      <td>0.0</td>\n",
       "      <td>1</td>\n",
       "      <td>73</td>\n",
       "      <td>80.0</td>\n",
       "      <td>10.282776</td>\n",
       "    </tr>\n",
       "    <tr>\n",
       "      <th>1</th>\n",
       "      <td>ANSL_66892</td>\n",
       "      <td>2013-11-21</td>\n",
       "      <td>2018-12-27 17:47:00</td>\n",
       "      <td>1.0</td>\n",
       "      <td>White</td>\n",
       "      <td>0.72</td>\n",
       "      <td>14.19</td>\n",
       "      <td>13</td>\n",
       "      <td>9</td>\n",
       "      <td>0.0</td>\n",
       "      <td>2</td>\n",
       "      <td>1862</td>\n",
       "      <td>72.0</td>\n",
       "      <td>5.073996</td>\n",
       "    </tr>\n",
       "    <tr>\n",
       "      <th>2</th>\n",
       "      <td>ANSL_69750</td>\n",
       "      <td>2014-09-28</td>\n",
       "      <td>2016-10-19 08:24:00</td>\n",
       "      <td>2.0</td>\n",
       "      <td>Brown</td>\n",
       "      <td>0.15</td>\n",
       "      <td>40.90</td>\n",
       "      <td>15</td>\n",
       "      <td>4</td>\n",
       "      <td>2.0</td>\n",
       "      <td>4</td>\n",
       "      <td>752</td>\n",
       "      <td>15.0</td>\n",
       "      <td>0.366748</td>\n",
       "    </tr>\n",
       "    <tr>\n",
       "      <th>3</th>\n",
       "      <td>ANSL_71623</td>\n",
       "      <td>2016-12-31</td>\n",
       "      <td>2019-01-25 18:30:00</td>\n",
       "      <td>1.0</td>\n",
       "      <td>White</td>\n",
       "      <td>0.62</td>\n",
       "      <td>17.82</td>\n",
       "      <td>0</td>\n",
       "      <td>1</td>\n",
       "      <td>0.0</td>\n",
       "      <td>2</td>\n",
       "      <td>755</td>\n",
       "      <td>62.0</td>\n",
       "      <td>3.479237</td>\n",
       "    </tr>\n",
       "    <tr>\n",
       "      <th>4</th>\n",
       "      <td>ANSL_57969</td>\n",
       "      <td>2017-09-28</td>\n",
       "      <td>2017-11-19 09:38:00</td>\n",
       "      <td>2.0</td>\n",
       "      <td>Black</td>\n",
       "      <td>0.50</td>\n",
       "      <td>11.06</td>\n",
       "      <td>18</td>\n",
       "      <td>4</td>\n",
       "      <td>0.0</td>\n",
       "      <td>1</td>\n",
       "      <td>52</td>\n",
       "      <td>50.0</td>\n",
       "      <td>4.520796</td>\n",
       "    </tr>\n",
       "  </tbody>\n",
       "</table>\n",
       "</div>"
      ],
      "text/plain": [
       "       pet_id issue_date        listing_date  condition   color_type  \\\n",
       "0  ANSL_69903 2016-07-10 2016-09-21 16:25:00        2.0  Brown Tabby   \n",
       "1  ANSL_66892 2013-11-21 2018-12-27 17:47:00        1.0        White   \n",
       "2  ANSL_69750 2014-09-28 2016-10-19 08:24:00        2.0        Brown   \n",
       "3  ANSL_71623 2016-12-31 2019-01-25 18:30:00        1.0        White   \n",
       "4  ANSL_57969 2017-09-28 2017-11-19 09:38:00        2.0        Black   \n",
       "\n",
       "   length(m)  height(cm)  X1  X2  breed_category  pet_category  diff_days  \\\n",
       "0       0.80        7.78  13   9             0.0             1         73   \n",
       "1       0.72       14.19  13   9             0.0             2       1862   \n",
       "2       0.15       40.90  15   4             2.0             4        752   \n",
       "3       0.62       17.82   0   1             0.0             2        755   \n",
       "4       0.50       11.06  18   4             0.0             1         52   \n",
       "\n",
       "   length(cm)   Ratio_HL  \n",
       "0        80.0  10.282776  \n",
       "1        72.0   5.073996  \n",
       "2        15.0   0.366748  \n",
       "3        62.0   3.479237  \n",
       "4        50.0   4.520796  "
      ]
     },
     "execution_count": 177,
     "metadata": {},
     "output_type": "execute_result"
    }
   ],
   "source": [
    "dataC.head()"
   ]
  },
  {
   "cell_type": "code",
   "execution_count": 178,
   "metadata": {},
   "outputs": [],
   "source": [
    "def preprocessing(df,status):\n",
    "    if(status=='train'):\n",
    "        y=df['pet_category']\n",
    "        X=df.drop(columns='pet_category')\n",
    "        oversample=RandomOverSampler() # here oversampler is used to handle to skew dataset\n",
    "        over_X,over_y=oversample.fit_resample(X,y)\n",
    "        sampled_data=over_X\n",
    "        sampled_data['pet_category']=over_y\n",
    "    else:\n",
    "        sampled_data=df\n",
    "        value=sampled_data['length(cm)'].quantile(q=0.25)\n",
    "        sampled_data['length(cm)'] = sampled_data['length(cm)'].replace(to_replace=0, value=value)\n",
    "        sampled_data['Ratio_HL']=sampled_data['length(cm)']/dataC['height(cm)']\n",
    "\n",
    "        \n",
    "    \n",
    "    data=sampled_data.drop(columns=['pet_id','issue_date','listing_date','length(m)','height(cm)',\n",
    "                     'length(cm)']) # unneccesary features are deleted\n",
    "    encoder=ce.OneHotEncoder(cols='condition')\n",
    "    data=encoder.fit_transform(data) # encoding the category variable\n",
    "    \n",
    "    encoder1=ce.BinaryEncoder(cols='color_type')\n",
    "    data=encoder1.fit_transform(data) # encoding category variable\n",
    "\n",
    "    return data\n",
    "    "
   ]
  },
  {
   "cell_type": "code",
   "execution_count": 179,
   "metadata": {},
   "outputs": [
    {
     "data": {
      "text/html": [
       "<div>\n",
       "<style scoped>\n",
       "    .dataframe tbody tr th:only-of-type {\n",
       "        vertical-align: middle;\n",
       "    }\n",
       "\n",
       "    .dataframe tbody tr th {\n",
       "        vertical-align: top;\n",
       "    }\n",
       "\n",
       "    .dataframe thead th {\n",
       "        text-align: right;\n",
       "    }\n",
       "</style>\n",
       "<table border=\"1\" class=\"dataframe\">\n",
       "  <thead>\n",
       "    <tr style=\"text-align: right;\">\n",
       "      <th></th>\n",
       "      <th>condition_1</th>\n",
       "      <th>condition_2</th>\n",
       "      <th>condition_3</th>\n",
       "      <th>color_type_0</th>\n",
       "      <th>color_type_1</th>\n",
       "      <th>color_type_2</th>\n",
       "      <th>color_type_3</th>\n",
       "      <th>color_type_4</th>\n",
       "      <th>color_type_5</th>\n",
       "      <th>color_type_6</th>\n",
       "      <th>X1</th>\n",
       "      <th>X2</th>\n",
       "      <th>breed_category</th>\n",
       "      <th>diff_days</th>\n",
       "      <th>Ratio_HL</th>\n",
       "      <th>pet_category</th>\n",
       "    </tr>\n",
       "  </thead>\n",
       "  <tbody>\n",
       "    <tr>\n",
       "      <th>0</th>\n",
       "      <td>1</td>\n",
       "      <td>0</td>\n",
       "      <td>0</td>\n",
       "      <td>0</td>\n",
       "      <td>0</td>\n",
       "      <td>0</td>\n",
       "      <td>0</td>\n",
       "      <td>0</td>\n",
       "      <td>0</td>\n",
       "      <td>1</td>\n",
       "      <td>13</td>\n",
       "      <td>9</td>\n",
       "      <td>0.0</td>\n",
       "      <td>73</td>\n",
       "      <td>10.282776</td>\n",
       "      <td>1</td>\n",
       "    </tr>\n",
       "    <tr>\n",
       "      <th>1</th>\n",
       "      <td>0</td>\n",
       "      <td>1</td>\n",
       "      <td>0</td>\n",
       "      <td>0</td>\n",
       "      <td>0</td>\n",
       "      <td>0</td>\n",
       "      <td>0</td>\n",
       "      <td>0</td>\n",
       "      <td>1</td>\n",
       "      <td>0</td>\n",
       "      <td>13</td>\n",
       "      <td>9</td>\n",
       "      <td>0.0</td>\n",
       "      <td>1862</td>\n",
       "      <td>5.073996</td>\n",
       "      <td>2</td>\n",
       "    </tr>\n",
       "    <tr>\n",
       "      <th>2</th>\n",
       "      <td>1</td>\n",
       "      <td>0</td>\n",
       "      <td>0</td>\n",
       "      <td>0</td>\n",
       "      <td>0</td>\n",
       "      <td>0</td>\n",
       "      <td>0</td>\n",
       "      <td>0</td>\n",
       "      <td>1</td>\n",
       "      <td>1</td>\n",
       "      <td>15</td>\n",
       "      <td>4</td>\n",
       "      <td>2.0</td>\n",
       "      <td>752</td>\n",
       "      <td>0.366748</td>\n",
       "      <td>4</td>\n",
       "    </tr>\n",
       "    <tr>\n",
       "      <th>3</th>\n",
       "      <td>0</td>\n",
       "      <td>1</td>\n",
       "      <td>0</td>\n",
       "      <td>0</td>\n",
       "      <td>0</td>\n",
       "      <td>0</td>\n",
       "      <td>0</td>\n",
       "      <td>0</td>\n",
       "      <td>1</td>\n",
       "      <td>0</td>\n",
       "      <td>0</td>\n",
       "      <td>1</td>\n",
       "      <td>0.0</td>\n",
       "      <td>755</td>\n",
       "      <td>3.479237</td>\n",
       "      <td>2</td>\n",
       "    </tr>\n",
       "    <tr>\n",
       "      <th>4</th>\n",
       "      <td>1</td>\n",
       "      <td>0</td>\n",
       "      <td>0</td>\n",
       "      <td>0</td>\n",
       "      <td>0</td>\n",
       "      <td>0</td>\n",
       "      <td>0</td>\n",
       "      <td>1</td>\n",
       "      <td>0</td>\n",
       "      <td>0</td>\n",
       "      <td>18</td>\n",
       "      <td>4</td>\n",
       "      <td>0.0</td>\n",
       "      <td>52</td>\n",
       "      <td>4.520796</td>\n",
       "      <td>1</td>\n",
       "    </tr>\n",
       "  </tbody>\n",
       "</table>\n",
       "</div>"
      ],
      "text/plain": [
       "   condition_1  condition_2  condition_3  color_type_0  color_type_1  \\\n",
       "0            1            0            0             0             0   \n",
       "1            0            1            0             0             0   \n",
       "2            1            0            0             0             0   \n",
       "3            0            1            0             0             0   \n",
       "4            1            0            0             0             0   \n",
       "\n",
       "   color_type_2  color_type_3  color_type_4  color_type_5  color_type_6  X1  \\\n",
       "0             0             0             0             0             1  13   \n",
       "1             0             0             0             1             0  13   \n",
       "2             0             0             0             1             1  15   \n",
       "3             0             0             0             1             0   0   \n",
       "4             0             0             1             0             0  18   \n",
       "\n",
       "   X2  breed_category  diff_days   Ratio_HL  pet_category  \n",
       "0   9             0.0         73  10.282776             1  \n",
       "1   9             0.0       1862   5.073996             2  \n",
       "2   4             2.0        752   0.366748             4  \n",
       "3   1             0.0        755   3.479237             2  \n",
       "4   4             0.0         52   4.520796             1  "
      ]
     },
     "execution_count": 179,
     "metadata": {},
     "output_type": "execute_result"
    }
   ],
   "source": [
    "processed=preprocessing(dataC,status='train')\n",
    "processed.head()"
   ]
  },
  {
   "cell_type": "code",
   "execution_count": 180,
   "metadata": {},
   "outputs": [
    {
     "data": {
      "text/plain": [
       "pet_category\n",
       "0    10621\n",
       "1    10621\n",
       "2    10621\n",
       "4    10621\n",
       "dtype: int64"
      ]
     },
     "execution_count": 180,
     "metadata": {},
     "output_type": "execute_result"
    }
   ],
   "source": [
    "processed.groupby('pet_category').size()"
   ]
  },
  {
   "cell_type": "code",
   "execution_count": 181,
   "metadata": {},
   "outputs": [],
   "source": [
    "y=processed[['pet_category','breed_category']]\n",
    "X=processed.drop(columns=['pet_category','breed_category'])\n",
    "X_train,X_test,y_train,y_test=train_test_split(X,y,test_size=0.20,random_state=400)"
   ]
  },
  {
   "cell_type": "code",
   "execution_count": 182,
   "metadata": {},
   "outputs": [],
   "source": [
    "clf=RandomForestClassifier(n_estimators=100)"
   ]
  },
  {
   "cell_type": "code",
   "execution_count": 183,
   "metadata": {},
   "outputs": [
    {
     "data": {
      "text/plain": [
       "RandomForestClassifier()"
      ]
     },
     "execution_count": 183,
     "metadata": {},
     "output_type": "execute_result"
    }
   ],
   "source": [
    "clf.fit(X_train,y_train)"
   ]
  },
  {
   "cell_type": "code",
   "execution_count": 184,
   "metadata": {},
   "outputs": [],
   "source": [
    "def evaluation(clf,X_test,y_test):\n",
    "    # a common evaluation method is made to get the metric for each model easily\n",
    "    # along with the metrics it displays the confusion matrix \n",
    "    #[[00,01]\n",
    "    #[10,11]]\n",
    "    # where 00 - is the count of havig both pet and breed correctly identified\n",
    "    # 01 - count of breed wrongly predicted\n",
    "    #10 -count of pet wrongly perdicted \n",
    "    #11 - both pet and breed wrongly predicted\n",
    "    \n",
    "    y_pred=clf.predict(X_test)\n",
    "    y_eval=y_test.copy()\n",
    "    \n",
    "    y_eval['pet_category_predicted']=y_pred[:,0]\n",
    "    y_eval['breed_category_predicted']=y_pred[:,1]\n",
    "    \n",
    "    y_eval['breed_category_eval']=y_eval[['breed_category','breed_category_predicted']].apply(lambda x :0 if x['breed_category']==x['breed_category_predicted'] else 1,axis=1)\n",
    "    y_eval['pet_category_eval']=y_eval[['pet_category','pet_category_predicted']].apply(lambda x :0 if x['pet_category']==x['pet_category_predicted'] else 1,axis=1)\n",
    "    \n",
    "    return (\n",
    "            print(metrics.classification_report(y_eval['pet_category'],y_eval['pet_category_predicted'])),\n",
    "            print(metrics.classification_report(y_eval['breed_category'],y_eval['breed_category_predicted'])),\n",
    "            print('accuracy for pet category',metrics.accuracy_score(y_eval['pet_category'],y_eval['pet_category_predicted'])),\n",
    "            print('accuracy for breed category',metrics.accuracy_score(y_eval['breed_category'],y_eval['breed_category_predicted'])),\n",
    "            print(metrics.confusion_matrix(y_eval['pet_category_eval'],y_eval['breed_category_eval']))\n",
    "            )\n",
    "\n"
   ]
  },
  {
   "cell_type": "code",
   "execution_count": 185,
   "metadata": {},
   "outputs": [
    {
     "name": "stdout",
     "output_type": "stream",
     "text": [
      "              precision    recall  f1-score   support\n",
      "\n",
      "           0       1.00      1.00      1.00      2084\n",
      "           1       0.92      0.92      0.92      2176\n",
      "           2       0.92      0.89      0.91      2093\n",
      "           4       0.98      1.00      0.99      2144\n",
      "\n",
      "    accuracy                           0.95      8497\n",
      "   macro avg       0.95      0.95      0.95      8497\n",
      "weighted avg       0.95      0.95      0.95      8497\n",
      "\n",
      "              precision    recall  f1-score   support\n",
      "\n",
      "         0.0       0.94      0.94      0.94      2975\n",
      "         1.0       0.92      0.92      0.92      2341\n",
      "         2.0       0.98      0.98      0.98      3181\n",
      "\n",
      "    accuracy                           0.95      8497\n",
      "   macro avg       0.95      0.95      0.95      8497\n",
      "weighted avg       0.95      0.95      0.95      8497\n",
      "\n",
      "accuracy for pet category 0.9541014475697305\n",
      "accuracy for breed category 0.9513946098623044\n",
      "[[7750  357]\n",
      " [ 334   56]]\n"
     ]
    },
    {
     "data": {
      "text/plain": [
       "(None, None, None, None, None)"
      ]
     },
     "execution_count": 185,
     "metadata": {},
     "output_type": "execute_result"
    }
   ],
   "source": [
    "evaluation(clf,X_test,y_test)"
   ]
  },
  {
   "cell_type": "code",
   "execution_count": 186,
   "metadata": {},
   "outputs": [
    {
     "name": "stdout",
     "output_type": "stream",
     "text": [
      "              precision    recall  f1-score   support\n",
      "\n",
      "           0       1.00      1.00      1.00      2084\n",
      "           1       0.92      0.92      0.92      2176\n",
      "           2       0.92      0.90      0.91      2093\n",
      "           4       0.98      1.00      0.99      2144\n",
      "\n",
      "    accuracy                           0.96      8497\n",
      "   macro avg       0.96      0.96      0.96      8497\n",
      "weighted avg       0.95      0.96      0.95      8497\n",
      "\n",
      "              precision    recall  f1-score   support\n",
      "\n",
      "         0.0       0.94      0.94      0.94      2975\n",
      "         1.0       0.92      0.92      0.92      2341\n",
      "         2.0       0.98      0.98      0.98      3181\n",
      "\n",
      "    accuracy                           0.95      8497\n",
      "   macro avg       0.95      0.95      0.95      8497\n",
      "weighted avg       0.95      0.95      0.95      8497\n",
      "\n",
      "accuracy for pet category 0.9551606449335059\n",
      "accuracy for breed category 0.9512769212663293\n",
      "[[7762  354]\n",
      " [ 321   60]]\n"
     ]
    },
    {
     "data": {
      "text/plain": [
       "(None, None, None, None, None)"
      ]
     },
     "execution_count": 186,
     "metadata": {},
     "output_type": "execute_result"
    }
   ],
   "source": [
    "clf1=RandomForestClassifier(n_estimators=80)\n",
    "clf1.fit(X_train,y_train)\n",
    "evaluation(clf=clf1,X_test=X_test,y_test=y_test)"
   ]
  },
  {
   "cell_type": "code",
   "execution_count": 187,
   "metadata": {},
   "outputs": [],
   "source": [
    "#mod=GridSearchCV(clf,param_grid={'n_estimators':[x for x in range(60,250,10)]})\n",
    "#mod.fit(X_train,y_train)\n",
    "#mod.best_estimator_"
   ]
  },
  {
   "cell_type": "raw",
   "metadata": {},
   "source": [
    "GridSearch doesnot allow multiclass targets so single target is selected and tried to find the estimators and found out to be 80\n",
    "from the metrics we created the count of '11' has reduced and 00 has increased a bit."
   ]
  },
  {
   "cell_type": "code",
   "execution_count": 188,
   "metadata": {},
   "outputs": [
    {
     "data": {
      "text/plain": [
       "diff_days       0.202935\n",
       "Ratio_HL        0.149194\n",
       "X1              0.116936\n",
       "X2              0.105639\n",
       "condition_2     0.087219\n",
       "condition_1     0.086199\n",
       "condition_3     0.080624\n",
       "color_type_5    0.040099\n",
       "color_type_6    0.037879\n",
       "color_type_3    0.032412\n",
       "color_type_4    0.029467\n",
       "color_type_2    0.023282\n",
       "color_type_1    0.008116\n",
       "color_type_0    0.000000\n",
       "dtype: float64"
      ]
     },
     "execution_count": 188,
     "metadata": {},
     "output_type": "execute_result"
    }
   ],
   "source": [
    "feature_imp=pd.Series(clf1.feature_importances_,index=X.columns)\n",
    "feature_imp.sort_values(ascending=False)"
   ]
  },
  {
   "cell_type": "code",
   "execution_count": 189,
   "metadata": {},
   "outputs": [
    {
     "name": "stdout",
     "output_type": "stream",
     "text": [
      "{'bootstrap': True, 'ccp_alpha': 0.0, 'class_weight': None, 'criterion': 'gini', 'max_depth': None, 'max_features': 'auto', 'max_leaf_nodes': None, 'max_samples': None, 'min_impurity_decrease': 0.0, 'min_impurity_split': None, 'min_samples_leaf': 1, 'min_samples_split': 2, 'min_weight_fraction_leaf': 0.0, 'n_estimators': 100, 'n_jobs': None, 'oob_score': False, 'random_state': None, 'verbose': 0, 'warm_start': False}\n"
     ]
    }
   ],
   "source": [
    "print(clf.get_params())"
   ]
  },
  {
   "cell_type": "code",
   "execution_count": 190,
   "metadata": {},
   "outputs": [
    {
     "data": {
      "text/html": [
       "<div>\n",
       "<style scoped>\n",
       "    .dataframe tbody tr th:only-of-type {\n",
       "        vertical-align: middle;\n",
       "    }\n",
       "\n",
       "    .dataframe tbody tr th {\n",
       "        vertical-align: top;\n",
       "    }\n",
       "\n",
       "    .dataframe thead th {\n",
       "        text-align: right;\n",
       "    }\n",
       "</style>\n",
       "<table border=\"1\" class=\"dataframe\">\n",
       "  <thead>\n",
       "    <tr style=\"text-align: right;\">\n",
       "      <th></th>\n",
       "      <th>pet_id</th>\n",
       "      <th>issue_date</th>\n",
       "      <th>listing_date</th>\n",
       "      <th>condition</th>\n",
       "      <th>color_type</th>\n",
       "      <th>length(m)</th>\n",
       "      <th>height(cm)</th>\n",
       "      <th>X1</th>\n",
       "      <th>X2</th>\n",
       "    </tr>\n",
       "  </thead>\n",
       "  <tbody>\n",
       "    <tr>\n",
       "      <th>0</th>\n",
       "      <td>ANSL_75005</td>\n",
       "      <td>2005-08-17 00:00:00</td>\n",
       "      <td>2017-09-07 15:35:00</td>\n",
       "      <td>0.0</td>\n",
       "      <td>Black</td>\n",
       "      <td>0.87</td>\n",
       "      <td>42.73</td>\n",
       "      <td>0</td>\n",
       "      <td>7</td>\n",
       "    </tr>\n",
       "    <tr>\n",
       "      <th>1</th>\n",
       "      <td>ANSL_76663</td>\n",
       "      <td>2018-11-15 00:00:00</td>\n",
       "      <td>2019-05-08 17:24:00</td>\n",
       "      <td>1.0</td>\n",
       "      <td>Orange Tabby</td>\n",
       "      <td>0.06</td>\n",
       "      <td>6.71</td>\n",
       "      <td>0</td>\n",
       "      <td>1</td>\n",
       "    </tr>\n",
       "    <tr>\n",
       "      <th>2</th>\n",
       "      <td>ANSL_58259</td>\n",
       "      <td>2012-10-11 00:00:00</td>\n",
       "      <td>2018-04-02 16:51:00</td>\n",
       "      <td>1.0</td>\n",
       "      <td>Black</td>\n",
       "      <td>0.24</td>\n",
       "      <td>41.21</td>\n",
       "      <td>0</td>\n",
       "      <td>7</td>\n",
       "    </tr>\n",
       "    <tr>\n",
       "      <th>3</th>\n",
       "      <td>ANSL_67171</td>\n",
       "      <td>2015-02-13 00:00:00</td>\n",
       "      <td>2018-04-06 07:25:00</td>\n",
       "      <td>1.0</td>\n",
       "      <td>Black</td>\n",
       "      <td>0.29</td>\n",
       "      <td>8.46</td>\n",
       "      <td>7</td>\n",
       "      <td>1</td>\n",
       "    </tr>\n",
       "    <tr>\n",
       "      <th>4</th>\n",
       "      <td>ANSL_72871</td>\n",
       "      <td>2017-01-18 00:00:00</td>\n",
       "      <td>2018-04-26 13:42:00</td>\n",
       "      <td>1.0</td>\n",
       "      <td>Brown</td>\n",
       "      <td>0.71</td>\n",
       "      <td>30.92</td>\n",
       "      <td>0</td>\n",
       "      <td>7</td>\n",
       "    </tr>\n",
       "  </tbody>\n",
       "</table>\n",
       "</div>"
      ],
      "text/plain": [
       "       pet_id           issue_date         listing_date  condition  \\\n",
       "0  ANSL_75005  2005-08-17 00:00:00  2017-09-07 15:35:00        0.0   \n",
       "1  ANSL_76663  2018-11-15 00:00:00  2019-05-08 17:24:00        1.0   \n",
       "2  ANSL_58259  2012-10-11 00:00:00  2018-04-02 16:51:00        1.0   \n",
       "3  ANSL_67171  2015-02-13 00:00:00  2018-04-06 07:25:00        1.0   \n",
       "4  ANSL_72871  2017-01-18 00:00:00  2018-04-26 13:42:00        1.0   \n",
       "\n",
       "     color_type  length(m)  height(cm)  X1  X2  \n",
       "0         Black       0.87       42.73   0   7  \n",
       "1  Orange Tabby       0.06        6.71   0   1  \n",
       "2         Black       0.24       41.21   0   7  \n",
       "3         Black       0.29        8.46   7   1  \n",
       "4         Brown       0.71       30.92   0   7  "
      ]
     },
     "execution_count": 190,
     "metadata": {},
     "output_type": "execute_result"
    }
   ],
   "source": [
    "actual_test=pd.read_csv('test.csv')\n",
    "actual_test.head()"
   ]
  },
  {
   "cell_type": "code",
   "execution_count": 191,
   "metadata": {},
   "outputs": [
    {
     "data": {
      "text/plain": [
       "pet_id            0\n",
       "issue_date        0\n",
       "listing_date      0\n",
       "condition       619\n",
       "color_type        0\n",
       "length(m)         0\n",
       "height(cm)        0\n",
       "X1                0\n",
       "X2                0\n",
       "dtype: int64"
      ]
     },
     "execution_count": 191,
     "metadata": {},
     "output_type": "execute_result"
    }
   ],
   "source": [
    "actual_test.isna().sum()"
   ]
  },
  {
   "cell_type": "code",
   "execution_count": 192,
   "metadata": {},
   "outputs": [
    {
     "name": "stderr",
     "output_type": "stream",
     "text": [
      "D:\\ProgramFiles\\anaconda3\\envs\\nlp_course\\lib\\site-packages\\pandas\\core\\frame.py:3697: SettingWithCopyWarning: \n",
      "A value is trying to be set on a copy of a slice from a DataFrame\n",
      "\n",
      "See the caveats in the documentation: http://pandas.pydata.org/pandas-docs/stable/indexing.html#indexing-view-versus-copy\n",
      "  errors=errors)\n",
      "D:\\ProgramFiles\\anaconda3\\envs\\nlp_course\\lib\\site-packages\\ipykernel_launcher.py:28: SettingWithCopyWarning: \n",
      "A value is trying to be set on a copy of a slice from a DataFrame.\n",
      "Try using .loc[row_indexer,col_indexer] = value instead\n",
      "\n",
      "See the caveats in the documentation: http://pandas.pydata.org/pandas-docs/stable/indexing.html#indexing-view-versus-copy\n"
     ]
    }
   ],
   "source": [
    "test_data=preprocessing(FillingNa(actual_test,status='test'),status='test')"
   ]
  },
  {
   "cell_type": "code",
   "execution_count": 193,
   "metadata": {},
   "outputs": [
    {
     "data": {
      "text/plain": [
       "condition_1     0\n",
       "condition_2     0\n",
       "condition_3     0\n",
       "color_type_0    0\n",
       "color_type_1    0\n",
       "color_type_2    0\n",
       "color_type_3    0\n",
       "color_type_4    0\n",
       "color_type_5    0\n",
       "color_type_6    0\n",
       "X1              0\n",
       "X2              0\n",
       "diff_days       0\n",
       "Ratio_HL        0\n",
       "dtype: int64"
      ]
     },
     "execution_count": 193,
     "metadata": {},
     "output_type": "execute_result"
    }
   ],
   "source": [
    "test_data.isna().sum()"
   ]
  },
  {
   "cell_type": "code",
   "execution_count": 194,
   "metadata": {},
   "outputs": [
    {
     "data": {
      "text/html": [
       "<div>\n",
       "<style scoped>\n",
       "    .dataframe tbody tr th:only-of-type {\n",
       "        vertical-align: middle;\n",
       "    }\n",
       "\n",
       "    .dataframe tbody tr th {\n",
       "        vertical-align: top;\n",
       "    }\n",
       "\n",
       "    .dataframe thead th {\n",
       "        text-align: right;\n",
       "    }\n",
       "</style>\n",
       "<table border=\"1\" class=\"dataframe\">\n",
       "  <thead>\n",
       "    <tr style=\"text-align: right;\">\n",
       "      <th></th>\n",
       "      <th>condition_1</th>\n",
       "      <th>condition_2</th>\n",
       "      <th>condition_3</th>\n",
       "      <th>color_type_0</th>\n",
       "      <th>color_type_1</th>\n",
       "      <th>color_type_2</th>\n",
       "      <th>color_type_3</th>\n",
       "      <th>color_type_4</th>\n",
       "      <th>color_type_5</th>\n",
       "      <th>color_type_6</th>\n",
       "      <th>X1</th>\n",
       "      <th>X2</th>\n",
       "      <th>diff_days</th>\n",
       "      <th>Ratio_HL</th>\n",
       "    </tr>\n",
       "  </thead>\n",
       "  <tbody>\n",
       "    <tr>\n",
       "      <th>0</th>\n",
       "      <td>1</td>\n",
       "      <td>0</td>\n",
       "      <td>0</td>\n",
       "      <td>0</td>\n",
       "      <td>0</td>\n",
       "      <td>0</td>\n",
       "      <td>0</td>\n",
       "      <td>0</td>\n",
       "      <td>0</td>\n",
       "      <td>1</td>\n",
       "      <td>0</td>\n",
       "      <td>7</td>\n",
       "      <td>4404</td>\n",
       "      <td>11.182519</td>\n",
       "    </tr>\n",
       "    <tr>\n",
       "      <th>1</th>\n",
       "      <td>0</td>\n",
       "      <td>1</td>\n",
       "      <td>0</td>\n",
       "      <td>0</td>\n",
       "      <td>0</td>\n",
       "      <td>0</td>\n",
       "      <td>0</td>\n",
       "      <td>0</td>\n",
       "      <td>1</td>\n",
       "      <td>0</td>\n",
       "      <td>0</td>\n",
       "      <td>1</td>\n",
       "      <td>174</td>\n",
       "      <td>0.422833</td>\n",
       "    </tr>\n",
       "    <tr>\n",
       "      <th>2</th>\n",
       "      <td>0</td>\n",
       "      <td>1</td>\n",
       "      <td>0</td>\n",
       "      <td>0</td>\n",
       "      <td>0</td>\n",
       "      <td>0</td>\n",
       "      <td>0</td>\n",
       "      <td>0</td>\n",
       "      <td>0</td>\n",
       "      <td>1</td>\n",
       "      <td>0</td>\n",
       "      <td>7</td>\n",
       "      <td>1999</td>\n",
       "      <td>0.586797</td>\n",
       "    </tr>\n",
       "    <tr>\n",
       "      <th>3</th>\n",
       "      <td>0</td>\n",
       "      <td>1</td>\n",
       "      <td>0</td>\n",
       "      <td>0</td>\n",
       "      <td>0</td>\n",
       "      <td>0</td>\n",
       "      <td>0</td>\n",
       "      <td>0</td>\n",
       "      <td>0</td>\n",
       "      <td>1</td>\n",
       "      <td>7</td>\n",
       "      <td>1</td>\n",
       "      <td>1148</td>\n",
       "      <td>1.627385</td>\n",
       "    </tr>\n",
       "    <tr>\n",
       "      <th>4</th>\n",
       "      <td>0</td>\n",
       "      <td>1</td>\n",
       "      <td>0</td>\n",
       "      <td>0</td>\n",
       "      <td>0</td>\n",
       "      <td>0</td>\n",
       "      <td>0</td>\n",
       "      <td>0</td>\n",
       "      <td>1</td>\n",
       "      <td>1</td>\n",
       "      <td>0</td>\n",
       "      <td>7</td>\n",
       "      <td>463</td>\n",
       "      <td>6.419530</td>\n",
       "    </tr>\n",
       "  </tbody>\n",
       "</table>\n",
       "</div>"
      ],
      "text/plain": [
       "   condition_1  condition_2  condition_3  color_type_0  color_type_1  \\\n",
       "0            1            0            0             0             0   \n",
       "1            0            1            0             0             0   \n",
       "2            0            1            0             0             0   \n",
       "3            0            1            0             0             0   \n",
       "4            0            1            0             0             0   \n",
       "\n",
       "   color_type_2  color_type_3  color_type_4  color_type_5  color_type_6  X1  \\\n",
       "0             0             0             0             0             1   0   \n",
       "1             0             0             0             1             0   0   \n",
       "2             0             0             0             0             1   0   \n",
       "3             0             0             0             0             1   7   \n",
       "4             0             0             0             1             1   0   \n",
       "\n",
       "   X2  diff_days   Ratio_HL  \n",
       "0   7       4404  11.182519  \n",
       "1   1        174   0.422833  \n",
       "2   7       1999   0.586797  \n",
       "3   1       1148   1.627385  \n",
       "4   7        463   6.419530  "
      ]
     },
     "execution_count": 194,
     "metadata": {},
     "output_type": "execute_result"
    }
   ],
   "source": [
    "test_data.head()"
   ]
  },
  {
   "cell_type": "code",
   "execution_count": 195,
   "metadata": {},
   "outputs": [],
   "source": [
    "predictions=clf.predict(test_data)"
   ]
  },
  {
   "cell_type": "code",
   "execution_count": 196,
   "metadata": {},
   "outputs": [
    {
     "data": {
      "text/html": [
       "<div>\n",
       "<style scoped>\n",
       "    .dataframe tbody tr th:only-of-type {\n",
       "        vertical-align: middle;\n",
       "    }\n",
       "\n",
       "    .dataframe tbody tr th {\n",
       "        vertical-align: top;\n",
       "    }\n",
       "\n",
       "    .dataframe thead th {\n",
       "        text-align: right;\n",
       "    }\n",
       "</style>\n",
       "<table border=\"1\" class=\"dataframe\">\n",
       "  <thead>\n",
       "    <tr style=\"text-align: right;\">\n",
       "      <th></th>\n",
       "      <th>pet_id</th>\n",
       "      <th>issue_date</th>\n",
       "      <th>listing_date</th>\n",
       "      <th>condition</th>\n",
       "      <th>color_type</th>\n",
       "      <th>length(m)</th>\n",
       "      <th>height(cm)</th>\n",
       "      <th>X1</th>\n",
       "      <th>X2</th>\n",
       "      <th>diff_days</th>\n",
       "      <th>length(cm)</th>\n",
       "      <th>Ratio_HL</th>\n",
       "      <th>pet_category</th>\n",
       "      <th>breed_category</th>\n",
       "    </tr>\n",
       "  </thead>\n",
       "  <tbody>\n",
       "    <tr>\n",
       "      <th>0</th>\n",
       "      <td>ANSL_75005</td>\n",
       "      <td>2005-08-17</td>\n",
       "      <td>2017-09-07 15:35:00</td>\n",
       "      <td>0.0</td>\n",
       "      <td>Black</td>\n",
       "      <td>0.87</td>\n",
       "      <td>42.73</td>\n",
       "      <td>0</td>\n",
       "      <td>7</td>\n",
       "      <td>4404</td>\n",
       "      <td>87.0</td>\n",
       "      <td>11.182519</td>\n",
       "      <td>2.0</td>\n",
       "      <td>0.0</td>\n",
       "    </tr>\n",
       "    <tr>\n",
       "      <th>1</th>\n",
       "      <td>ANSL_76663</td>\n",
       "      <td>2018-11-15</td>\n",
       "      <td>2019-05-08 17:24:00</td>\n",
       "      <td>1.0</td>\n",
       "      <td>Orange Tabby</td>\n",
       "      <td>0.06</td>\n",
       "      <td>6.71</td>\n",
       "      <td>0</td>\n",
       "      <td>1</td>\n",
       "      <td>174</td>\n",
       "      <td>6.0</td>\n",
       "      <td>0.422833</td>\n",
       "      <td>2.0</td>\n",
       "      <td>0.0</td>\n",
       "    </tr>\n",
       "    <tr>\n",
       "      <th>2</th>\n",
       "      <td>ANSL_58259</td>\n",
       "      <td>2012-10-11</td>\n",
       "      <td>2018-04-02 16:51:00</td>\n",
       "      <td>1.0</td>\n",
       "      <td>Black</td>\n",
       "      <td>0.24</td>\n",
       "      <td>41.21</td>\n",
       "      <td>0</td>\n",
       "      <td>7</td>\n",
       "      <td>1999</td>\n",
       "      <td>24.0</td>\n",
       "      <td>0.586797</td>\n",
       "      <td>1.0</td>\n",
       "      <td>0.0</td>\n",
       "    </tr>\n",
       "    <tr>\n",
       "      <th>3</th>\n",
       "      <td>ANSL_67171</td>\n",
       "      <td>2015-02-13</td>\n",
       "      <td>2018-04-06 07:25:00</td>\n",
       "      <td>1.0</td>\n",
       "      <td>Black</td>\n",
       "      <td>0.29</td>\n",
       "      <td>8.46</td>\n",
       "      <td>7</td>\n",
       "      <td>1</td>\n",
       "      <td>1148</td>\n",
       "      <td>29.0</td>\n",
       "      <td>1.627385</td>\n",
       "      <td>1.0</td>\n",
       "      <td>0.0</td>\n",
       "    </tr>\n",
       "    <tr>\n",
       "      <th>4</th>\n",
       "      <td>ANSL_72871</td>\n",
       "      <td>2017-01-18</td>\n",
       "      <td>2018-04-26 13:42:00</td>\n",
       "      <td>1.0</td>\n",
       "      <td>Brown</td>\n",
       "      <td>0.71</td>\n",
       "      <td>30.92</td>\n",
       "      <td>0</td>\n",
       "      <td>7</td>\n",
       "      <td>463</td>\n",
       "      <td>71.0</td>\n",
       "      <td>6.419530</td>\n",
       "      <td>2.0</td>\n",
       "      <td>0.0</td>\n",
       "    </tr>\n",
       "  </tbody>\n",
       "</table>\n",
       "</div>"
      ],
      "text/plain": [
       "       pet_id issue_date        listing_date  condition    color_type  \\\n",
       "0  ANSL_75005 2005-08-17 2017-09-07 15:35:00        0.0         Black   \n",
       "1  ANSL_76663 2018-11-15 2019-05-08 17:24:00        1.0  Orange Tabby   \n",
       "2  ANSL_58259 2012-10-11 2018-04-02 16:51:00        1.0         Black   \n",
       "3  ANSL_67171 2015-02-13 2018-04-06 07:25:00        1.0         Black   \n",
       "4  ANSL_72871 2017-01-18 2018-04-26 13:42:00        1.0         Brown   \n",
       "\n",
       "   length(m)  height(cm)  X1  X2  diff_days  length(cm)   Ratio_HL  \\\n",
       "0       0.87       42.73   0   7       4404        87.0  11.182519   \n",
       "1       0.06        6.71   0   1        174         6.0   0.422833   \n",
       "2       0.24       41.21   0   7       1999        24.0   0.586797   \n",
       "3       0.29        8.46   7   1       1148        29.0   1.627385   \n",
       "4       0.71       30.92   0   7        463        71.0   6.419530   \n",
       "\n",
       "   pet_category  breed_category  \n",
       "0           2.0             0.0  \n",
       "1           2.0             0.0  \n",
       "2           1.0             0.0  \n",
       "3           1.0             0.0  \n",
       "4           2.0             0.0  "
      ]
     },
     "execution_count": 196,
     "metadata": {},
     "output_type": "execute_result"
    }
   ],
   "source": [
    "actual_test['pet_category']=predictions[:,0]\n",
    "actual_test['breed_category']=predictions[:,1]\n",
    "actual_test.head()"
   ]
  },
  {
   "cell_type": "code",
   "execution_count": 197,
   "metadata": {},
   "outputs": [],
   "source": [
    "actual_test[['pet_id','pet_category','breed_category']].to_csv('predictions.csv')"
   ]
  }
 ],
 "metadata": {
  "kernelspec": {
   "display_name": "Python 3",
   "language": "python",
   "name": "python3"
  },
  "language_info": {
   "codemirror_mode": {
    "name": "ipython",
    "version": 3
   },
   "file_extension": ".py",
   "mimetype": "text/x-python",
   "name": "python",
   "nbconvert_exporter": "python",
   "pygments_lexer": "ipython3",
   "version": "3.7.7"
  }
 },
 "nbformat": 4,
 "nbformat_minor": 4
}
